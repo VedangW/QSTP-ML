{
 "cells": [
  {
   "cell_type": "markdown",
   "metadata": {},
   "source": [
    "# Assignment 1: Strings, Lists and Files\n",
    "\n",
    "This assignment is based on basic python operations and to help you get a better understanding of lists, dictionaries, string operations, file I/O and other basic python operations. All the best!"
   ]
  },
  {
   "cell_type": "markdown",
   "metadata": {},
   "source": [
    "**Q1) Given an positive integer, write a function to print the smallest integer that can be formed by rearranging the digits of the given number.**\n",
    "\n",
    "For e.g.:\n",
    "```\n",
    "    >>> least_int(54235)\n",
    "    23455\n",
    "```"
   ]
  },
  {
   "cell_type": "code",
   "execution_count": 4,
   "metadata": {},
   "outputs": [],
   "source": [
    "def least_int(num):\n",
    "    lis=list(str(num))\n",
    "    lis.sort()\n",
    "    print(int(''.join(lis)))\n",
    "    \n",
    "    pass"
   ]
  },
  {
   "cell_type": "markdown",
   "metadata": {},
   "source": [
    "<hr/>\n",
    "\n",
    "**Q2) Given a string consisting of words and whitespaces, write a function to print a word consisting of the last letters of all the words beginning with the letter 'a'. Assume that all the alphabets in the strings are lower case.**\n",
    "\n",
    "For e.g.: \n",
    "```\n",
    ">>> mystring = 'apple banana aeroplace machine learning python append'\n",
    ">>> function_a(mystring)\n",
    "eed\n",
    "```"
   ]
  },
  {
   "cell_type": "code",
   "execution_count": 19,
   "metadata": {},
   "outputs": [],
   "source": [
    "def function_a(string1):\n",
    "    lis=string1.split()\n",
    "    ans=[]\n",
    "    for word in lis:\n",
    "        if word[0]=='a':\n",
    "            ans+=[word[-1]]\n",
    "    print(''.join(ans))\n",
    "    pass"
   ]
  },
  {
   "cell_type": "markdown",
   "metadata": {},
   "source": [
    "***\n",
    "**Q3) Given a string in the form of a sentence, remove all duplicate words from the sentence.(Order of words in the return value can differ from original)**\n",
    "For e.g.:\n",
    "```\n",
    ">>> mystr = 'Vedang Pro is Pro at ML'\n",
    ">>> remove_dup(mystr)\n",
    "'Vedang at ML Pro is'\n",
    "```"
   ]
  },
  {
   "cell_type": "code",
   "execution_count": 20,
   "metadata": {},
   "outputs": [],
   "source": [
    "def remove_dup(mystring):\n",
    "    lis=mystring.split()\n",
    "    ans=list(set(lis))\n",
    "    print(' '.join(ans))\n",
    "    pass"
   ]
  },
  {
   "cell_type": "markdown",
   "metadata": {},
   "source": [
    "______\n",
    "**Q4) Write a single line of code to check if a given string ```mystring``` is a palindrome or not.**\n",
    "For e.g.:\n",
    "```\n",
    ">>> mystring = 'SatanoscillatemymetallicsonataS'\n",
    "#your code\n",
    "```"
   ]
  },
  {
   "cell_type": "code",
   "execution_count": 21,
   "metadata": {},
   "outputs": [],
   "source": [
    "mystring = 'SatanoscillatemymetallicsonataS'\n",
    "is_pal=True\n",
    "current=mystring\n",
    "while len(current)>1:\n",
    "    if current[0]==current[-1]:\n",
    "        current=current[1:-1]\n",
    "    else:\n",
    "        is_pal=False\n",
    "        break\n",
    "print(is_pal)"
   ]
  },
  {
   "cell_type": "markdown",
   "metadata": {},
   "source": [
    "___\n",
    "**Q5) Given a list of integers, create a new list where the i'th entry in the list is the average of previous i - 1 entries in the original list.**\n",
    "For e.g.:\n",
    "```\n",
    ">>> a = [1, 2, 3, 4, 5]\n",
    ">>> list_of_avgs(a)\n",
    "[1.0, 1.5, 2.0, 2.5, 3.0]\n",
    "```"
   ]
  },
  {
   "cell_type": "code",
   "execution_count": 22,
   "metadata": {},
   "outputs": [],
   "source": [
    "def list_of_avgs(a):\n",
    "    return [sum(a[:(i+1)])/(i+1) for i in range(len(a))]\n",
    "    pass"
   ]
  },
  {
   "cell_type": "markdown",
   "metadata": {},
   "source": [
    "___\n",
    "**Q6) Given a list of random integers, modify the list such that all the elements in even places are in ascending order and all those in the odd places appear in a decreasing order. Assume labeling of the places start from the number zero.**\n",
    "\n",
    "For e.g.\n",
    "```\n",
    ">>> a = [1, 8, 4, 5, 2, 5, 3, 9, 4]\n",
    ">>> asc_desc_list(a)\n",
    "[1, 9, 2, 8, 3, 5, 4, 5, 4]\n",
    "```"
   ]
  },
  {
   "cell_type": "code",
   "execution_count": 23,
   "metadata": {},
   "outputs": [],
   "source": [
    "def asc_decc_list(a):\n",
    "    #write your code here\n",
    "    if len(a)==0:\n",
    "        return []\n",
    "    elif len(a)==1:\n",
    "        return [a[0]]\n",
    "    else:\n",
    "        a.sort()\n",
    "        return [a[0],a[-1]]+asc_decc_list(a[1:-1])\n",
    "    pass\n"
   ]
  },
  {
   "cell_type": "markdown",
   "metadata": {},
   "source": [
    "___\n",
    "**Q7) Write an iterator function to return the elements of the Fibonacci series.**"
   ]
  },
  {
   "cell_type": "code",
   "execution_count": 24,
   "metadata": {},
   "outputs": [],
   "source": [
    "#write your code here\n",
    "def fib():\n",
    "    a=0\n",
    "    b=1\n",
    "    while True:\n",
    "        temp=a\n",
    "        a=b\n",
    "        b=temp+b\n",
    "        yield(a)\n",
    "        "
   ]
  },
  {
   "cell_type": "markdown",
   "metadata": {},
   "source": [
    "---\n",
    "**Q8) Print all the sublists of a list, seperated by a comma and a whitespace.**\n",
    "For e.g.:\n",
    "```\n",
    ">>> a = [1, 2]\n",
    ">>> sub_lists(a)\n",
    "[], [1], [1, 2] [2][\n",
    "```"
   ]
  },
  {
   "cell_type": "code",
   "execution_count": 25,
   "metadata": {},
   "outputs": [],
   "source": [
    "def sub_lists(a):\n",
    "    ans=[[]]\n",
    "    for i in range(len(a)):\n",
    "        for j in range(i,len(a)):\n",
    "            ans+=[a[i:j+1]]\n",
    "    return ans\n",
    "    pass"
   ]
  },
  {
   "cell_type": "markdown",
   "metadata": {},
   "source": [
    "---\n",
    "**Q9) Write two functions, each of which take a list as an argument.  The first function modifies the list by appending the sum of entries of the list passed as an argument. The second function reassigns a new list to the argument passed, where each entry in the new list is one more than the corresponding entry given as an argument. Is the change reflected outside the functions in both cases? Why/Why not?**\n",
    "Note: For reassign_list(a), you have to reassign a new list to the argument, and not change the existing list."
   ]
  },
  {
   "cell_type": "code",
   "execution_count": 26,
   "metadata": {},
   "outputs": [
    {
     "name": "stdout",
     "output_type": "stream",
     "text": [
      "[1, 2, 3]\n",
      "[1, 2, 3]\n"
     ]
    }
   ],
   "source": [
    "def modify_list(a):\n",
    "    #write your code here\n",
    "    a=a+[sum(a)]\n",
    "    pass\n",
    "\n",
    "def reassign_list(a):\n",
    "    a=[a[i]+1 for i in range(len(a))]\n",
    "    pass\n",
    "a = [1, 2, 3]\n",
    "modify_list(a)\n",
    "print(a)\n",
    "\n",
    "a = [1, 2, 3]\n",
    "reassign_list(a)\n",
    "print(a)"
   ]
  },
  {
   "cell_type": "markdown",
   "metadata": {},
   "source": [
    "---\n",
    "**Q10) Given a string, return a dictionary consisting of each character in the string and the position at which it occurs. (Positions are to be taken as keys, and position numbering starts from 1)**\n",
    "\n",
    "For e.g.)\n",
    "\n",
    "```\n",
    ">>> a = 'Machine Learning'\n",
    ">>> char_position(a)\n",
    "{1: 'M', 2: 'a', 3: 'c', 4: 'h', 5: 'i', 6: 'n', 7: 'e', 9: 'L', 10: 'e', 11: 'a', 12: 'r', 13: 'n', 14: 'i', 15: 'n', 16: 'g'}\n",
    "```"
   ]
  },
  {
   "cell_type": "code",
   "execution_count": 28,
   "metadata": {},
   "outputs": [],
   "source": [
    "def char_position(a):\n",
    "    a=list(a)\n",
    "    dic={(i+1):a[i] for i in range(len(a)) if a[i]!=' '}\n",
    "    return dic\n",
    "    pass"
   ]
  },
  {
   "cell_type": "markdown",
   "metadata": {},
   "source": [
    "---\n",
    "\n",
    "**Q11) Given a string, arrange the characters in increasing order of their frequency at which they appear(Ignore any whitespaces)**\n",
    "\n",
    "For e.g.:\n",
    "```\n",
    ">>> a = 'ifadhaiusbdufbugfsdbfubgsidf'\n",
    ">>> sort_by_freq(a)\n",
    "'haaggiiisssdddduuuubbbbfffff'\n",
    "```"
   ]
  },
  {
   "cell_type": "code",
   "execution_count": 29,
   "metadata": {},
   "outputs": [],
   "source": [
    "def sort_by_freq(a):\n",
    "    a=list(a)\n",
    "    lis=[a[i] for i in range(len(a)) if a[i]!=' ']\n",
    "    letters=list(set(lis))\n",
    "    freq=[(a.count(x),x) for x in letters]\n",
    "    freq.sort()\n",
    "    ans=[]\n",
    "    while freq!=[]:\n",
    "        first=freq.pop(0)\n",
    "        ans+=[first[1]]*first[0]\n",
    "    return ''.join(ans)\n",
    "    pass"
   ]
  },
  {
   "cell_type": "markdown",
   "metadata": {},
   "source": [
    "---\n",
    "---\n",
    "**Q12)**\n",
    "\n",
    "**A) Create a file called myfile.txt**\n",
    "\n",
    "**B) Enter some a random paragraph into the file.**\n",
    "\n",
    "**C) Take an integer input n from the user. Create a file with the name as the nth word in myfile.txt.(Assume that n is less than the number of words in your file.)**\n",
    "\n",
    "**D) Enter the paragraph from myfile.txt into your new file, in reverse order. \n",
    "Note: In part (D) only the order of the words should change, the words are not reversed in themselves.**"
   ]
  },
  {
   "cell_type": "code",
   "execution_count": 14,
   "metadata": {},
   "outputs": [
    {
     "name": "stdout",
     "output_type": "stream",
     "text": [
      "4\n"
     ]
    }
   ],
   "source": [
    "f=open('myfile.txt','w')\n",
    "f.write('Humpty Dumpty sat on a wall , Humpty Dumpty had a great fall.')\n",
    "f.close()\n",
    "n=int(input())\n",
    "f=open('myfile.txt','r')\n",
    "words=f.read().split()\n",
    "nthword=words[n-1]+'.txt'\n",
    "g=open(nthword,'w')\n",
    "g.write(' '.join(words[::-1]))\n",
    "g.close()"
   ]
  },
  {
   "cell_type": "code",
   "execution_count": null,
   "metadata": {},
   "outputs": [],
   "source": [
    "nthword"
   ]
  }
 ],
 "metadata": {
  "kernelspec": {
   "display_name": "Python 3",
   "language": "python",
   "name": "python3"
  },
  "language_info": {
   "codemirror_mode": {
    "name": "ipython",
    "version": 3
   },
   "file_extension": ".py",
   "mimetype": "text/x-python",
   "name": "python",
   "nbconvert_exporter": "python",
   "pygments_lexer": "ipython3",
   "version": "3.6.4"
  }
 },
 "nbformat": 4,
 "nbformat_minor": 2
}
