{
 "cells": [
  {
   "cell_type": "markdown",
   "metadata": {},
   "source": [
    "Numpy exercise\n",
    "===\n",
    "\n",
    "This exercise is designed to get you familiarised with numpy and shows the most common operations that you will perform in the future.\n",
    "\n",
    "You will need the Iris.csv file from the GitHub repositry to perform this exercise.\n",
    "\n",
    "Write your code in the following way:\n",
    "#################################<br>\n",
    "\n",
    "Your code here\n",
    "#################################"
   ]
  },
  {
   "cell_type": "code",
   "execution_count": 2,
   "metadata": {
    "collapsed": true
   },
   "outputs": [],
   "source": [
    "import numpy as np"
   ]
  },
  {
   "cell_type": "code",
   "execution_count": 10,
   "metadata": {},
   "outputs": [
    {
     "name": "stdout",
     "output_type": "stream",
     "text": [
      "[[ 0  1  2  3]\n",
      " [ 4  5  6  7]\n",
      " [ 8  9 10 11]\n",
      " [12 13 14 15]]\n"
     ]
    }
   ],
   "source": [
    "A=np.arange(16)   #This creates a vector with values from 0 to 15.\n",
    "\n",
    "#Reshape A into a 4x4 numpy array and print the array\n",
    "#################################\n",
    "A=A.reshape(4,4)\n",
    "print(A)\n",
    "#################################"
   ]
  },
  {
   "cell_type": "markdown",
   "metadata": {},
   "source": [
    "Expected output:<br>\n",
    "[[ 0  1  2  3]\n",
    " [ 4  5  6  7]\n",
    " [ 8  9 10 11]\n",
    " [12 13 14 15]]"
   ]
  },
  {
   "cell_type": "code",
   "execution_count": 13,
   "metadata": {
    "scrolled": true
   },
   "outputs": [
    {
     "name": "stdout",
     "output_type": "stream",
     "text": [
      "[[  0   1   4   9]\n",
      " [ 16  25  36  49]\n",
      " [ 64  81 100 121]\n",
      " [144 169 196 225]]\n"
     ]
    }
   ],
   "source": [
    "#Create another array B which is made of square of each elements of B and print B.\n",
    "#################################\n",
    " #B=np.square(A,np.ndarray((4,4),int))\n",
    " #B=A*A\n",
    "B=A**2\n",
    "print(B)\n",
    "#################################"
   ]
  },
  {
   "cell_type": "markdown",
   "metadata": {},
   "source": [
    "Expected output:<br>\n",
    "[[  0   1   4   9]\n",
    " [ 16  25  36  49]\n",
    " [ 64  81 100 121]\n",
    " [144 169 196 225]]\n"
   ]
  },
  {
   "cell_type": "code",
   "execution_count": 26,
   "metadata": {},
   "outputs": [],
   "source": [
    "#Create a numpy array of shape (28,28) whose values are chosen randomly from 0-255\n",
    "#################################\n",
    "x=np.random.randint(0,255+1,(28,28))\n",
    "#print(A)\n",
    "#################################\n",
    "\n",
    "#Convert x into a vector (Make it of single dimension)\n",
    "#################################\n",
    "x=x.reshape(28*28,)\n",
    "#################################\n",
    "\n",
    "#Add the number 1 at the start of x\n",
    "# e.g.: If x is [3,2,5,7,5,...], new x should be [1,3,2,5,7,5,...]\n",
    "#################################\n",
    "x=np.insert(x,0,1,axis=0)\n",
    "#print(x,np.shape(x))\n",
    "#################################\n",
    "\n",
    "#Create  vector W of shape (785,10) whose values follow a normal distribution with mean=0 and standard dev=0.01\n",
    "#################################\n",
    "W=np.random.normal(0,0.05,(785,10))\n",
    "#print(W)\n",
    "#################################\n",
    "\n",
    "#Multiply the 2 matrices W and x. (Keep in mind the shape of the two)\n",
    "#################################\n",
    "yw=x.dot(W)\n",
    "#print(y1)\n",
    "#################################"
   ]
  },
  {
   "cell_type": "code",
   "execution_count": 24,
   "metadata": {},
   "outputs": [],
   "source": [
    "#Load the Iris.csv file into numpy array 'data' and shuffle the data.(The data array should contain rows in random order)\n",
    "#################################\n",
    "import pandas as pd\n",
    "data=np.array(pd.read_csv('Iris.csv'))\n",
    "np.random.shuffle(data)\n",
    "#print (data)\n",
    "\n",
    "#################################\n",
    "\n",
    "\n",
    "#Create a numpy array X that contains the firts 4 columns of data. Keep the last column of data in numpy array y.\n",
    "#################################\n",
    "X=data[:,0:4]\n",
    "y=data[:,4]\n",
    "#print(X)\n",
    "#print(y)\n",
    "#################################"
   ]
  },
  {
   "cell_type": "code",
   "execution_count": 25,
   "metadata": {},
   "outputs": [
    {
     "name": "stdout",
     "output_type": "stream",
     "text": [
      "[[ 5.5  2.6  4.4  1.2  1. ]\n",
      " [ 6.9  3.1  5.4  2.1  2. ]\n",
      " [ 5.7  4.4  1.5  0.4  0. ]\n",
      " [ 6.4  2.8  5.6  2.1  2. ]\n",
      " [ 6.   2.2  5.   1.5  2. ]\n",
      " [ 5.1  3.7  1.5  0.4  0. ]\n",
      " [ 5.4  3.   4.5  1.5  1. ]\n",
      " [ 7.   3.2  4.7  1.4  1. ]\n",
      " [ 4.8  3.   1.4  0.1  0. ]\n",
      " [ 5.4  3.9  1.7  0.4  0. ]]\n",
      "[[ 6.2  2.2  4.5  1.5  1. ]\n",
      " [ 5.7  2.8  4.1  1.3  1. ]\n",
      " [ 4.9  3.1  1.5  0.1  0. ]\n",
      " [ 6.3  2.8  5.1  1.5  2. ]\n",
      " [ 4.6  3.4  1.4  0.3  0. ]\n",
      " [ 6.7  3.1  4.7  1.5  1. ]\n",
      " [ 6.1  2.9  4.7  1.4  1. ]\n",
      " [ 6.9  3.1  5.1  2.3  2. ]\n",
      " [ 6.3  3.3  4.7  1.6  1. ]\n",
      " [ 5.2  3.4  1.4  0.2  0. ]]\n",
      "[ 6.9  3.1  5.4  2.1]\n",
      "[ 6.4  2.8  5.6  2.1]\n",
      "[ 6.   2.2  5.   1.5]\n",
      "[ 6.7  2.5  5.8  1.8]\n",
      "[ 7.6  3.   6.6  2.1]\n",
      "[ 6.4  3.2  5.3  2.3]\n",
      "[ 6.1  2.6  5.6  1.4]\n",
      "[ 6.3  2.9  5.6  1.8]\n",
      "[ 7.1  3.   5.9  2.1]\n",
      "[ 5.8  2.7  5.1  1.9]\n",
      "[ 6.8  3.   5.5  2.1]\n",
      "[ 6.7  3.   5.2  2.3]\n",
      "[ 6.5  3.   5.2  2. ]\n",
      "[ 6.3  3.4  5.6  2.4]\n",
      "[ 5.6  2.8  4.9  2. ]\n",
      "[ 7.9  3.8  6.4  2. ]\n",
      "[ 4.9  2.5  4.5  1.7]\n",
      "[ 6.1  3.   4.9  1.8]\n",
      "[ 6.7  3.3  5.7  2.1]\n",
      "[ 5.9  3.   5.1  1.8]\n",
      "[ 5.7  2.5  5.   2. ]\n",
      "[ 5.8  2.8  5.1  2.4]\n",
      "[ 6.2  2.8  4.8  1.8]\n",
      "[ 5.8  2.7  5.1  1.9]\n",
      "[ 6.3  3.3  6.   2.5]\n",
      "[ 6.5  3.   5.8  2.2]\n",
      "[ 6.5  3.2  5.1  2. ]\n",
      "[ 6.7  3.3  5.7  2.5]\n",
      "[ 7.7  2.6  6.9  2.3]\n",
      "[ 6.9  3.2  5.7  2.3]\n",
      "[ 7.7  3.   6.1  2.3]\n",
      "[ 6.4  3.1  5.5  1.8]\n",
      "[ 7.7  2.8  6.7  2. ]\n",
      "[ 6.2  3.4  5.4  2.3]\n",
      "[ 7.4  2.8  6.1  1.9]\n",
      "[ 7.7  3.8  6.7  2.2]\n",
      "[ 6.4  2.8  5.6  2.2]\n",
      "[ 7.3  2.9  6.3  1.8]\n",
      "[ 7.2  3.6  6.1  2.5]\n",
      "[ 6.5  3.   5.5  1.8]\n",
      "[ 6.3  2.5  5.   1.9]\n",
      "[ 7.2  3.   5.8  1.6]\n",
      "[ 6.3  2.7  4.9  1.8]\n",
      "[ 6.8  3.2  5.9  2.3]\n",
      "[ 6.   3.   4.8  1.8]\n",
      "[ 6.7  3.1  5.6  2.4]\n",
      "[ 7.2  3.2  6.   1.8]\n",
      "[ 6.4  2.7  5.3  1.9]\n",
      "[ 6.3  2.8  5.1  1.5]\n",
      "[ 6.9  3.1  5.1  2.3]\n"
     ]
    }
   ],
   "source": [
    "# Print the following:\n",
    "# 1) First 10 values of data\n",
    "# 2) Last 10 values of data\n",
    "# 3) All rows of X whose corresponding value in y is 2\n",
    "\n",
    "#################################\n",
    "print(data[0:10])\n",
    "print(data[-10:])\n",
    "for i in range(0,np.shape(X)[0]):\n",
    "    if y[i]==2:\n",
    "        print( X[i] )\n",
    "\n",
    "#################################"
   ]
  },
  {
   "cell_type": "code",
   "execution_count": 33,
   "metadata": {},
   "outputs": [],
   "source": [
    "# Create a numpy array y1 of same length as y and number of columns 3. \n",
    "# Values of y1 are such that,\n",
    "# If y contains 0, y1 should have (1,0,0)\n",
    "# If y contains 1, y1 should have (0,1,0)\n",
    "# If y contains 2, y1 should have (0,0,1)\n",
    "# This type of encoding is known as one-hot encoding\n",
    "#################################\n",
    "\n",
    "y1=np.zeros((np.shape(y)[0],3))\n",
    "for i in range (0,np.shape(y)[0]):\n",
    "    if y[i]==0:\n",
    "        y1[i]=(1,0,0)\n",
    "    elif y[i]==1:\n",
    "        y1[i]=(0,1,0)\n",
    "    elif y[i]==2:\n",
    "        y1[i]=(0,0,1)\n",
    "    \n",
    "\n",
    "#################################"
   ]
  },
  {
   "cell_type": "code",
   "execution_count": 35,
   "metadata": {},
   "outputs": [
    {
     "name": "stdout",
     "output_type": "stream",
     "text": [
      "(1, 32, 64, 3)\n"
     ]
    }
   ],
   "source": [
    "A=np.random.randint(100,size=(32,64,3))\n",
    "# Convert A into shape (1,32,64,3) without using np.reshape()\n",
    "#################################\n",
    "B=np.zeros((1,32,64,3))\n",
    "for i in range (0,32):\n",
    "    B[0,i]=(A[i])  \n",
    "#print(B,np.shape(B))\n",
    "A=B\n",
    "print(np.shape(A))\n",
    "#################################"
   ]
  },
  {
   "cell_type": "markdown",
   "metadata": {},
   "source": [
    "Expected Output:<br>(1,32,64,3)"
   ]
  }
 ],
 "metadata": {
  "kernelspec": {
   "display_name": "Python [default]",
   "language": "python",
   "name": "python3"
  },
  "language_info": {
   "codemirror_mode": {
    "name": "ipython",
    "version": 3
   },
   "file_extension": ".py",
   "mimetype": "text/x-python",
   "name": "python",
   "nbconvert_exporter": "python",
   "pygments_lexer": "ipython3",
   "version": "3.5.3"
  }
 },
 "nbformat": 4,
 "nbformat_minor": 2
}
