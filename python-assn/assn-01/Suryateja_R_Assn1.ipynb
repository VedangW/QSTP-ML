{
 "cells": [
  {
   "cell_type": "markdown",
   "metadata": {},
   "source": [
    "# Assignment 1: Strings, Lists and Files\n",
    "\n",
    "This assignment is based on basic python operations and to help you get a better understanding of lists, dictionaries, string operations, file I/O and other basic python operations. All the best!"
   ]
  },
  {
   "cell_type": "markdown",
   "metadata": {},
   "source": [
    "**Q1) Given an positive integer, write a function to print the smallest integer that can be formed by rearranging the digits of the given number.**\n",
    "\n",
    "For e.g.:\n",
    "```\n",
    "    >>> least_int(54235)\n",
    "    23455\n",
    "```"
   ]
  },
  {
   "cell_type": "code",
   "execution_count": 1,
   "metadata": {
    "collapsed": true
   },
   "outputs": [],
   "source": [
    "def least_int(num):\n",
    "    list1=[]\n",
    "    string=str(num)\n",
    "    for i in string:\n",
    "        list1.append(int(i))\n",
    "    #print(list1)\n",
    "    for j in range(0,len(list1)):\n",
    "        for i in range(0,len(list1)-1):\n",
    "            if int(list1[i])>int(list1[i+1]):\n",
    "                temp=int(list1[i])\n",
    "                list1[i]=int(list1[i+1])\n",
    "                list1[i+1]=int(temp)\n",
    "   \n",
    "    for j in range(0,len(list1)):\n",
    "        print(list1[j],end='')\n",
    "    print('')\n",
    "    pass"
   ]
  },
  {
   "cell_type": "markdown",
   "metadata": {},
   "source": [
    "<hr/>\n",
    "\n",
    "**Q2) Given a string consisting of words and whitespaces, write a function to print a word consisting of the last letters of all the words beginning with the letter 'a'. Assume that all the alphabets in the strings are lower case.**\n",
    "\n",
    "For e.g.: \n",
    "```\n",
    ">>> mystring = 'apple banana aeroplace machine learning python append'\n",
    ">>> function_a(mystring)\n",
    "eed\n",
    "```"
   ]
  },
  {
   "cell_type": "code",
   "execution_count": 2,
   "metadata": {
    "collapsed": true
   },
   "outputs": [],
   "source": [
    "def function_a(string1):\n",
    "    string2=\" \"+string1+\" \"\n",
    "    prt=[]\n",
    "    for i in range(0,len(string2)-1):\n",
    "        if string2[i]==' 'and string2[i+1]=='a':\n",
    "            for j in range(i+1,len(string2)):\n",
    "                if string2[j]==' ':\n",
    "                    prt.append(string2[j-1])\n",
    "                    break\n",
    "    for i in range(0,len(prt)):\n",
    "        print(prt[i],end='')\n",
    "    print(\"\")\n",
    "    \n",
    "                \n",
    "    pass"
   ]
  },
  {
   "cell_type": "markdown",
   "metadata": {},
   "source": [
    "***\n",
    "**Q3) Given a string in the form of a sentence, remove all duplicate words from the sentence.(Order of words in the return value can differ from original)**\n",
    "For e.g.:\n",
    "```\n",
    ">>> mystr = 'Vedang Pro is Pro at ML'\n",
    ">>> remove_dup(mystr)\n",
    "'Vedang at ML Pro is'\n",
    "```"
   ]
  },
  {
   "cell_type": "code",
   "execution_count": 3,
   "metadata": {
    "collapsed": true
   },
   "outputs": [],
   "source": [
    "def remove_dup(mystring):\n",
    "    string=' '+mystring+' '\n",
    "    lists=[]\n",
    "    for i in range(0,len(string)):\n",
    "        if string[i]==' ':\n",
    "            for j in range(i+1,len(string)):\n",
    "                if string[j]==' ':\n",
    "                    word=string[i+1:j+1]\n",
    "                    if word not in lists:\n",
    "                        lists.append(word)\n",
    "                    \n",
    "                    break\n",
    "    for k in lists:\n",
    "        print(k,end='')\n",
    "    print('')\n",
    "    pass"
   ]
  },
  {
   "cell_type": "markdown",
   "metadata": {},
   "source": [
    "______\n",
    "**Q4) Write a single line of code to check if a given string ```mystring``` is a palindrome or not.**\n",
    "For e.g.:\n",
    "```\n",
    ">>> mystring = 'SatanoscillatemymetallicsonataS'\n",
    "#your code\n",
    "```"
   ]
  },
  {
   "cell_type": "code",
   "execution_count": 4,
   "metadata": {},
   "outputs": [
    {
     "name": "stdout",
     "output_type": "stream",
     "text": [
      "mystring is palindrome\n"
     ]
    }
   ],
   "source": [
    "mystring = 'SatanoscillatemymetallicsonataS' #give any random string\n",
    "print(\"mystring is palindrome\" if mystring==mystring[::-1] else \"mystring is not palindrome\" )"
   ]
  },
  {
   "cell_type": "markdown",
   "metadata": {},
   "source": [
    "___\n",
    "**Q5) Given a list of integers, create a new list where the i'th entry in the list is the average of previous i - 1 entries in the original list.**\n",
    "For e.g.:\n",
    "```\n",
    ">>> a = [1, 2, 3, 4, 5]\n",
    ">>> list_of_avgs(a)\n",
    "[1.0, 1.5, 2.0, 2.5, 3.0]\n",
    "```"
   ]
  },
  {
   "cell_type": "code",
   "execution_count": 5,
   "metadata": {
    "collapsed": true
   },
   "outputs": [],
   "source": [
    "def list_of_avgs(a):\n",
    "    b=[]\n",
    "    for i in range(0,len(a)):\n",
    "        b.append(0)\n",
    "    for i in range(0,len(a)):\n",
    "        for j in range(0,i+1):\n",
    "            b[i]+=a[j]\n",
    "        b[i]=b[i]/(i+1)\n",
    "    print(b)\n",
    "    pass"
   ]
  },
  {
   "cell_type": "markdown",
   "metadata": {},
   "source": [
    "___\n",
    "**Q6) Given a list of random integers, modify the list such that all the elements in even places are in ascending order and all those in the odd places appear in a decreasing order. Assume labeling of the places start from the number zero.**\n",
    "\n",
    "For e.g.\n",
    "```\n",
    ">>> a = [1, 8, 4, 5, 2, 5, 3, 9, 4]\n",
    ">>> asc_desc_list(a)\n",
    "[1, 9, 2, 8, 3, 5, 4, 5, 4]\n",
    "```"
   ]
  },
  {
   "cell_type": "code",
   "execution_count": 6,
   "metadata": {
    "collapsed": true
   },
   "outputs": [],
   "source": [
    "def asc_desc_list(a):\n",
    "    for i in range(0,len(a),2):\n",
    "        for j in range(0,len(a)-2,2):\n",
    "            if a[j]>a[j+2]:\n",
    "                temp = a[j]\n",
    "                a[j]=a[j+2]\n",
    "                a[j+2]=temp   \n",
    "    for i in range(0,len(a),2):\n",
    "        for j in range(1,len(a)-2,2):\n",
    "            if a[j]<a[j+2]:\n",
    "                temp = a[j]\n",
    "                a[j]=a[j+2]\n",
    "                a[j+2]=temp \n",
    "    print(a)\n",
    "    pass\n"
   ]
  },
  {
   "cell_type": "markdown",
   "metadata": {},
   "source": [
    "___\n",
    "**Q7) Write an iterator function to return the elements of the Fibonacci series.**"
   ]
  },
  {
   "cell_type": "code",
   "execution_count": 7,
   "metadata": {},
   "outputs": [
    {
     "name": "stdout",
     "output_type": "stream",
     "text": [
      "0\n",
      "1\n",
      "1\n",
      "2\n",
      "3\n",
      "5\n"
     ]
    }
   ],
   "source": [
    "def fibonacci(n): #generator function\n",
    "    a, b, counter = 0, 1, 0\n",
    "    while True:\n",
    "        if (counter > n): \n",
    "            return\n",
    "        yield a\n",
    "        a, b = b, a + b\n",
    "        counter += 1\n",
    "f = fibonacci(5)#f is iterator object\n",
    "\n",
    "print (next(f))\n",
    "print (next(f))\n",
    "print (next(f))\n",
    "\n",
    "print (next(f))\n",
    "print (next(f))\n",
    "\n",
    "print (next(f))\n",
    "#i kinda feel bad about this part...\n",
    "#but ill practice this particular cell later"
   ]
  },
  {
   "cell_type": "markdown",
   "metadata": {},
   "source": [
    "---\n",
    "**Q8) Print all the sublists of a list, seperated by a comma and a whitespace.**\n",
    "For e.g.:\n",
    "```\n",
    ">>> a = [1, 2]\n",
    ">>> sub_lists(a)\n",
    "[], [1], [1, 2] [2][\n",
    "```"
   ]
  },
  {
   "cell_type": "code",
   "execution_count": 8,
   "metadata": {
    "collapsed": true
   },
   "outputs": [],
   "source": [
    "def sub_lists(a):\n",
    "    lists=[[]]\n",
    "    for i in range(0,len(a)):\n",
    "        for j in range(i,len(a)):\n",
    "            lists.append(a[i:j+1])\n",
    "        \n",
    "    print(lists)    \n",
    "            \n",
    "            \n",
    "    pass"
   ]
  },
  {
   "cell_type": "markdown",
   "metadata": {},
   "source": [
    "---\n",
    "**Q9) Write two functions, each of which take a list as an argument.  The first function modifies the list by appending the sum of entries of the list passed as an argument. The second function reassigns a new list to the argument passed, where each entry in the new list is one more than the corresponding entry given as an argument. Is the change reflected outside the functions in both cases? Why/Why not?**\n",
    "Note: For reassign_list(a), you have to reassign a new list to the argument, and not change the existing list."
   ]
  },
  {
   "cell_type": "code",
   "execution_count": 9,
   "metadata": {},
   "outputs": [
    {
     "name": "stdout",
     "output_type": "stream",
     "text": [
      "[1, 2, 3, 6]\n",
      "[1, 2, 3]\n"
     ]
    }
   ],
   "source": [
    "def modify_list(a):\n",
    "    b=len(a)\n",
    "    a.append(0)\n",
    "    for i in range(0,b):\n",
    "        a[b]+=a[i]\n",
    "    pass\n",
    "\n",
    "def reassign_list(a):\n",
    "    b=[]\n",
    "    for i in range(0,len(a)):\n",
    "        b.append(a[i]+1)\n",
    "    #print(b)\n",
    "    return(b)\n",
    "    pass\n",
    "\n",
    "a = [1, 2, 3]\n",
    "modify_list(a)\n",
    "print(a)\n",
    "\n",
    "a = [1, 2, 3]\n",
    "reassign_list(a)\n",
    "print(a)"
   ]
  },
  {
   "cell_type": "markdown",
   "metadata": {},
   "source": [
    "---\n",
    "**Q10) Given a string, return a dictionary consisting of each character in the string and the position at which it occurs. (Positions are to be taken as keys, and position numbering starts from 1)**\n",
    "\n",
    "For e.g.)\n",
    "\n",
    "```\n",
    ">>> a = 'Machine Learning'\n",
    ">>> char_position(a)\n",
    "{1: 'M', 2: 'a', 3: 'c', 4: 'h', 5: 'i', 6: 'n', 7: 'e', 9: 'L', 10: 'e', 11: 'a', 12: 'r', 13: 'n', 14: 'i', 15: 'n', 16: 'g'}\n",
    "```"
   ]
  },
  {
   "cell_type": "code",
   "execution_count": 10,
   "metadata": {
    "collapsed": true
   },
   "outputs": [],
   "source": [
    "def char_position(a):\n",
    "    dicti={}\n",
    "    for i in range(0,len(a)):\n",
    "        #dicti.append(dict(i,a[i]))\n",
    "        dicti[i]=a[i]\n",
    "    #print (dicti)\n",
    "    return (dicti)"
   ]
  },
  {
   "cell_type": "markdown",
   "metadata": {},
   "source": [
    "---\n",
    "\n",
    "**Q11) Given a string, arrange the characters in increasing order of their frequency at which they appear(Ignore any whitespaces)**\n",
    "\n",
    "For e.g.:\n",
    "```\n",
    ">>> a = 'ifadhaiusbdufbugfsdbfubgsidf'\n",
    ">>> sort_by_freq(a)\n",
    "'haaggiiisssdddduuuubbbbfffff'\n",
    "```"
   ]
  },
  {
   "cell_type": "code",
   "execution_count": 11,
   "metadata": {
    "collapsed": true
   },
   "outputs": [],
   "source": [
    "def sort_by_freq(a):\n",
    "    lists=[]\n",
    "    dicti={}\n",
    "    for i in range(0,len(a)):\n",
    "        dicti[a[i]]=0\n",
    "    for i in range(0,len(a)):\n",
    "        dicti[a[i]]+=1\n",
    "    for i in dict.keys(dicti):\n",
    "        lists.append((i,dicti[i]))\n",
    "    for k in range(0,len(dicti)):\n",
    "        for i in range(0,len(dicti)-1):\n",
    "            if lists[i][1]>lists[i+1][1]:\n",
    "                temp=lists[i]\n",
    "                lists[i]=lists[i+1]\n",
    "                lists[i+1]=temp\n",
    "    for i in range(0,len(dicti)):\n",
    "        for j in range(0,lists[i][1]):\n",
    "            print(lists[i][0],end='')\n",
    "    print('')\n",
    "    pass"
   ]
  },
  {
   "cell_type": "markdown",
   "metadata": {},
   "source": [
    "---\n",
    "---\n",
    "**Q12)**\n",
    "\n",
    "**A) Create a file called myfile.txt**\n",
    "\n",
    "**B) Enter some a random paragraph into the file.**\n",
    "\n",
    "**C) Take an integer input n from the user. Create a file with the name as the nth word in myfile.txt.(Assume that n is less than the number of words in your file.)**\n",
    "\n",
    "**D) Enter the paragraph from myfile.txt into your new file, in reverse order. \n",
    "Note: In part (D) only the order of the words should change, the words are not reversed in themselves.**"
   ]
  },
  {
   "cell_type": "code",
   "execution_count": 12,
   "metadata": {},
   "outputs": [
    {
     "name": "stdout",
     "output_type": "stream",
     "text": [
      "enter the index to find  word:3\n"
     ]
    }
   ],
   "source": [
    "import os\n",
    "#os.mkdir(\"myfile.txt\")\n",
    "fo=open(\"myfile.txt\",\"w\")\n",
    "fo.write(\"Mathematicians seek out patterns and use them to formulate new conjectures. Mathematicians resolve the truth or falsity of conjectures by mathematical proof. When mathematical structures are good models of real phenomena, then mathematical reasoning can provide insight or predictions about nature. Through the use of abstraction and logic, mathematics developed from counting, calculation, measurement, and the systematic study of the shapes and motions of physical objects. Practical mathematics has been a human activity from as far back as written records exist. The research required to solve mathematical problems can take years or even centuries of sustained inquiry.\")\n",
    "fo.close()\n",
    "\n",
    "\n",
    "fo=open(\"myfile.txt\",\"r\")\n",
    "string=fo.read()\n",
    "finalpos=fo.seek(0,2)\n",
    "#print(finalpos)\n",
    "while (1):\n",
    "    nstr=fo.read()\n",
    "    string=string+nstr\n",
    "    #print(string)\n",
    "    nextpos=fo.tell()\n",
    "    if nextpos==finalpos:\n",
    "        break\n",
    "fo.close()\n",
    "sentence=' '+string+' '\n",
    "listwords=[]\n",
    "for i in range(0,len(sentence)):\n",
    "    if sentence[i] ==' ':\n",
    "        for j in range (i+1,len(sentence)):\n",
    "            if sentence[j]==' ':\n",
    "                listwords.append(sentence[i+1:j:])\n",
    "                break\n",
    "wordind=input(\"enter the index to find  word:\")\n",
    "word=listwords[int(wordind)]\n",
    "\n",
    "\n",
    "fo=open(word+\".txt\",\"a\")\n",
    "for i in range(len(listwords)-1,-1,-1):\n",
    "    fo.write(listwords[i]+' ')\n",
    "fo.close()"
   ]
  },
  {
   "cell_type": "code",
   "execution_count": null,
   "metadata": {
    "collapsed": true
   },
   "outputs": [],
   "source": []
  }
 ],
 "metadata": {
  "kernelspec": {
   "display_name": "Python [default]",
   "language": "python",
   "name": "python3"
  },
  "language_info": {
   "codemirror_mode": {
    "name": "ipython",
    "version": 3
   },
   "file_extension": ".py",
   "mimetype": "text/x-python",
   "name": "python",
   "nbconvert_exporter": "python",
   "pygments_lexer": "ipython3",
   "version": "3.5.3"
  }
 },
 "nbformat": 4,
 "nbformat_minor": 2
}
