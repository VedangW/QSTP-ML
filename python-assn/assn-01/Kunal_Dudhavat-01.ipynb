{
 "cells": [
  {
   "cell_type": "markdown",
   "metadata": {},
   "source": [
    "# Assignment 1: Strings, Lists and Files\n",
    "\n",
    "This assignment is based on basic python operations and to help you get a better understanding of lists, dictionaries, string operations, file I/O and other basic python operations. All the best!"
   ]
  },
  {
   "cell_type": "markdown",
   "metadata": {},
   "source": [
    "**Q1) Given an positive integer, write a function to print the smallest integer that can be formed by rearranging the digits of the given number.**\n",
    "\n",
    "For e.g.:\n",
    "```\n",
    "    >>> least_int(54235)\n",
    "    23455\n",
    "```"
   ]
  },
  {
   "cell_type": "code",
   "execution_count": null,
   "metadata": {},
   "outputs": [],
   "source": [
    "def least_int(num):\n",
    "    #write your code here\n",
    "    numList = [int(d) for d in str(num)]\n",
    "    numList.sort()\n",
    "    snum = int(''.join(map(str,numList)))\n",
    "    return snum\n",
    "least_int(554698)"
   ]
  },
  {
   "cell_type": "markdown",
   "metadata": {},
   "source": [
    "<hr/>\n",
    "\n",
    "**Q2) Given a string consisting of words and whitespaces, write a function to print a word consisting of the last letters of all the words beginning with the letter 'a'. Assume that all the alphabets in the strings are lower case.**\n",
    "\n",
    "For e.g.: \n",
    "```\n",
    ">>> mystring = 'apple banana aeroplace machine learning python append'\n",
    ">>> function_a(mystring)\n",
    "eed\n",
    "```"
   ]
  },
  {
   "cell_type": "code",
   "execution_count": null,
   "metadata": {},
   "outputs": [],
   "source": [
    "def function_a(string1):\n",
    "    #write your code here\n",
    "    lst = string1.split()\n",
    "    sr = \"\"\n",
    "    for i in range(0,len(lst)):\n",
    "        s = lst[i]\n",
    "        l = len(s)\n",
    "        if s[0] == 'a':\n",
    "            sr += s[l - 1]\n",
    "    return sr        \n",
    "function_a(\"apple banana aeroplace machine learning python append\")"
   ]
  },
  {
   "cell_type": "markdown",
   "metadata": {},
   "source": [
    "***\n",
    "**Q3) Given a string in the form of a sentence, remove all duplicate words from the sentence.(Order of words in the return value can differ from original)**\n",
    "For e.g.:\n",
    "```\n",
    ">>> mystr = 'Vedang Pro is Pro at ML'\n",
    ">>> remove_dup(mystr)\n",
    "'Vedang at ML Pro is'\n",
    "```"
   ]
  },
  {
   "cell_type": "code",
   "execution_count": null,
   "metadata": {},
   "outputs": [],
   "source": [
    "def remove_dup(mystring):\n",
    "    #write your code here\n",
    "    mylist = mystring.split()\n",
    "    newlist = []\n",
    "    for string in mylist:\n",
    "        if string not in newlist:\n",
    "            newlist.append(string)\n",
    "            mystring = \" \".join(newlist)\n",
    "    return mystring   \n",
    "\n",
    "remove_dup(\"Vedang Pro is Pro at ML\") "
   ]
  },
  {
   "cell_type": "markdown",
   "metadata": {},
   "source": [
    "______\n",
    "**Q4) Write a single line of code to check if a given string ```mystring``` is a palindrome or not.**\n",
    "For e.g.:\n",
    "```\n",
    ">>> mystring = 'SatanoscillatemymetallicsonataS'\n",
    "#your code\n",
    "```"
   ]
  },
  {
   "cell_type": "code",
   "execution_count": null,
   "metadata": {},
   "outputs": [],
   "source": [
    "mystring = 'SatanoscillatemymetallicsonataS' #give any random string\n",
    "#write your code here\n",
    "def isPalindrome(mystring):\n",
    "    rev = mystring[::-1]\n",
    "    if mystring == rev:\n",
    "        print(\"It is a Palindrome!\")\n",
    "    else:\n",
    "        print(\"It is not a Palindrome!\")\n",
    "isPalindrome(mystring)"
   ]
  },
  {
   "cell_type": "markdown",
   "metadata": {},
   "source": [
    "___\n",
    "**Q5) Given a list of integers, create a new list where the i'th entry in the list is the average of previous i - 1 entries in the original list.**\n",
    "For e.g.:\n",
    "```\n",
    ">>> a = [1, 2, 3, 4, 5]\n",
    ">>> list_of_avgs(a)\n",
    "[1.0, 1.5, 2.0, 2.5, 3.0]\n",
    "```"
   ]
  },
  {
   "cell_type": "code",
   "execution_count": null,
   "metadata": {},
   "outputs": [],
   "source": [
    "def list_of_avgs(a):\n",
    "    #write your code here\n",
    "    sum_var=0\n",
    "    result=[]\n",
    "    for i in range(len(a)):\n",
    "        sum_var=sum_var+a[i]\n",
    "        result.append(sum_var/(i+1))\n",
    "    print(result)\n",
    "    return result\n",
    "list_of_avgs([1, 2, 3, 4, 5]) "
   ]
  },
  {
   "cell_type": "markdown",
   "metadata": {},
   "source": [
    "___\n",
    "**Q6) Given a list of random integers, modify the list such that all the elements in even places are in ascending order and all those in the odd places appear in a decreasing order. Assume labeling of the places start from the number zero.**\n",
    "\n",
    "For e.g.\n",
    "```\n",
    ">>> a = [1, 8, 4, 5, 2, 5, 3, 9, 4]\n",
    ">>> asc_desc_list(a)\n",
    "[1, 9, 2, 8, 3, 5, 4, 5, 4]\n",
    "```"
   ]
  },
  {
   "cell_type": "code",
   "execution_count": null,
   "metadata": {},
   "outputs": [],
   "source": [
    "def asc_decc_list(a):\n",
    "    #write your code here\n",
    "    evenlist = a[::2]\n",
    "    oddlist = a[1::2]\n",
    "    oddlist.sort(reverse = True)\n",
    "    evenlist.sort()\n",
    "    newlist = [None]*(len(oddlist)+len(evenlist))\n",
    "    newlist[::2] = evenlist\n",
    "    newlist[1::2] = oddlist\n",
    "    return newlist\n",
    "asc_decc_list([1, 8, 4, 5, 2, 5, 3, 9, 4])\n"
   ]
  },
  {
   "cell_type": "markdown",
   "metadata": {},
   "source": [
    "___\n",
    "**Q7) Write an iterator function to return the elements of the Fibonacci series.**"
   ]
  },
  {
   "cell_type": "code",
   "execution_count": null,
   "metadata": {},
   "outputs": [],
   "source": [
    "#write your code here\n",
    "nterms = int(input(\"How many terms? \"))\n",
    "\n",
    "n1 = 0\n",
    "n2 = 1\n",
    "count = 0\n",
    "\n",
    "if nterms <= 0:\n",
    "   print(\"Please enter a positive integer\")\n",
    "elif nterms == 1:\n",
    "   print(\"Fibonacci sequence upto\",nterms,\":\")\n",
    "   print(n1)\n",
    "else:\n",
    "   print(\"Fibonacci sequence upto\",nterms,\":\")\n",
    "   while count < nterms:\n",
    "       print(n1,end=' , ')\n",
    "       nth = n1 + n2\n",
    "       \n",
    "       n1 = n2\n",
    "       n2 = nth\n",
    "       count += 1 \n"
   ]
  },
  {
   "cell_type": "markdown",
   "metadata": {},
   "source": [
    "---\n",
    "**Q8) Print all the sublists of a list, seperated by a comma and a whitespace.**\n",
    "For e.g.:\n",
    "```\n",
    ">>> a = [1, 2]\n",
    ">>> sub_lists(a)\n",
    "[], [1], [1, 2] [2][\n",
    "```"
   ]
  },
  {
   "cell_type": "code",
   "execution_count": null,
   "metadata": {},
   "outputs": [],
   "source": [
    "def sub_lists(a):\n",
    "    #write your code here\n",
    "    sublist = [[]]\n",
    "    for i in range(len(a)):\n",
    "         for j in range(i + 1, len(a)):\n",
    "            sub = a[i:j]\n",
    "            sublist.append(sub)\n",
    "    return sublist\n",
    " \n",
    "\n",
    "l1 = [1, 2, 3, 4]\n",
    "print(sub_lists(l1))"
   ]
  },
  {
   "cell_type": "markdown",
   "metadata": {},
   "source": [
    "---\n",
    "**Q9) Write two functions, each of which take a list as an argument.  The first function modifies the list by appending the sum of entries of the list passed as an argument. The second function reassigns a new list to the argument passed, where each entry in the new list is one more than the corresponding entry given as an argument. Is the change reflected outside the functions in both cases? Why/Why not?**\n",
    "Note: For reassign_list(a), you have to reassign a new list to the argument, and not change the existing list."
   ]
  },
  {
   "cell_type": "code",
   "execution_count": null,
   "metadata": {},
   "outputs": [],
   "source": [
    "def modify_list(a):\n",
    "    #write your code here\n",
    "    lsum = sum(a)\n",
    "    a.append(lsum)\n",
    "    return a\n",
    "\n",
    "def reassign_list(a):\n",
    "    #write your code here\n",
    "    new_a = [x+1 for x in a]\n",
    "a = [1, 2, 3]\n",
    "modify_list(a)\n",
    "print(a)\n",
    "\n",
    "a = [1, 2, 3]\n",
    "reassign_list(a)\n",
    "print(a)"
   ]
  },
  {
   "cell_type": "markdown",
   "metadata": {},
   "source": [
    "---\n",
    "**Q10) Given a string, return a dictionary consisting of each character in the string and the position at which it occurs. (Positions are to be taken as keys, and position numbering starts from 1)**\n",
    "\n",
    "For e.g.)\n",
    "\n",
    "```\n",
    ">>> a = 'Machine Learning'\n",
    ">>> char_position(a)\n",
    "{1: 'M', 2: 'a', 3: 'c', 4: 'h', 5: 'i', 6: 'n', 7: 'e', 9: 'L', 10: 'e', 11: 'a', 12: 'r', 13: 'n', 14: 'i', 15: 'n', 16: 'g'}\n",
    "```"
   ]
  },
  {
   "cell_type": "code",
   "execution_count": null,
   "metadata": {},
   "outputs": [],
   "source": [
    "def char_position(a):\n",
    "    #write your code here\n",
    "    b = dict((i+1,a[i]) for i in range(len(a)) if (a[i]!= \" \"))\n",
    "    return b\n",
    "char_position(\"Machine Learning\") "
   ]
  },
  {
   "cell_type": "markdown",
   "metadata": {},
   "source": [
    "---\n",
    "\n",
    "**Q11) Given a string, arrange the characters in increasing order of their frequency at which they appear(Ignore any whitespaces)**\n",
    "\n",
    "For e.g.:\n",
    "```\n",
    ">>> a = 'ifadhaiusbdufbugfsdbfubgsidf'\n",
    ">>> sort_by_freq(a)\n",
    "'haaggiiisssdddduuuubbbbfffff'\n",
    "```"
   ]
  },
  {
   "cell_type": "code",
   "execution_count": null,
   "metadata": {},
   "outputs": [],
   "source": [
    "def sort_by_freq(a):\n",
    "    #write your code here\n",
    "    import string\n",
    "    char_freq = dict.fromkeys(string.ascii_lowercase,0)\n",
    "    for x in a:\n",
    "        char_freq[x]=char_freq[x]+1\n",
    "    \n",
    "    for key in char_freq:\n",
    "        min_freq=char_freq[key]\n",
    "        for key2 in char_freq:\n",
    "            if char_freq[key2]>min_freq and min_freq==0:\n",
    "                min_freq=char_freq[key2]\n",
    "            elif char_freq[key2]<min_freq and char_freq[key2]>0:\n",
    "                min_freq=char_freq[key2]\n",
    "\n",
    "        for key2 in char_freq:\n",
    "            if char_freq[key2]==min_freq:\n",
    "                for i in range(char_freq[key2]):\n",
    "                    print(key2,end='')\n",
    "                char_freq[key2]=0\n",
    "                break\n",
    "\n",
    "sort_by_freq(\"ifadhaiusbdufbugfsdbfubgsidf\")"
   ]
  },
  {
   "cell_type": "markdown",
   "metadata": {},
   "source": [
    "---\n",
    "---\n",
    "**Q12)**\n",
    "\n",
    "**A) Create a file called myfile.txt**\n",
    "\n",
    "**B) Enter some a random paragraph into the file.**\n",
    "\n",
    "**C) Take an integer input n from the user. Create a file with the name as the nth word in myfile.txt.(Assume that n is less than the number of words in your file.)**\n",
    "\n",
    "**D) Enter the paragraph from myfile.txt into your new file, in reverse order. \n",
    "Note: In part (D) only the order of the words should change, the words are not reversed in themselves.**"
   ]
  },
  {
   "cell_type": "code",
   "execution_count": null,
   "metadata": {},
   "outputs": [],
   "source": [
    "#Q12\n",
    "n=int(input())\n",
    "read_file = open(\"myfile.txt\",\"r+\")\n",
    "words=[x for x in read_file.read().split(\" \")]\n",
    "write_file = open(words[n-1], \"w+\")\n",
    "for i in range(1,len(words),1):\n",
    "    write_file.write(words[len((words))-i-1])\n",
    "    write_file.write(\" \")\n",
    "write_file.close()"
   ]
  }
 ],
 "metadata": {
  "kernelspec": {
   "display_name": "Python 3",
   "language": "python",
   "name": "python3"
  },
  "language_info": {
   "codemirror_mode": {
    "name": "ipython",
    "version": 3
   },
   "file_extension": ".py",
   "mimetype": "text/x-python",
   "name": "python",
   "nbconvert_exporter": "python",
   "pygments_lexer": "ipython3",
   "version": "3.6.4"
  }
 },
 "nbformat": 4,
 "nbformat_minor": 2
}
