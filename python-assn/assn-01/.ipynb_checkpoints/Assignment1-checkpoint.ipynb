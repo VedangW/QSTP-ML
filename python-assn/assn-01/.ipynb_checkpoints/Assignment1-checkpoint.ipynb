{
 "cells": [
  {
   "cell_type": "markdown",
   "metadata": {},
   "source": [
    "# Assignment 1: Strings, Lists and Files\n",
    "\n",
    "This assignment is based on basic python operations and to help you get a better understanding of lists, dictionaries, string operations, file I/O and other basic python operations. All the best!"
   ]
  },
  {
   "cell_type": "markdown",
   "metadata": {},
   "source": [
    "**Q1) Given an positive integer, write a function to print the smallest integer that can be formed by rearranging the digits of the given number.**\n",
    "\n",
    "For e.g.:\n",
    "```\n",
    "    >>> least_int(54235)\n",
    "    23455\n",
    "```"
   ]
  },
  {
   "cell_type": "code",
   "execution_count": 1,
   "metadata": {},
   "outputs": [
    {
     "name": "stdout",
     "output_type": "stream",
     "text": [
      "23455\n"
     ]
    }
   ],
   "source": [
    "def least_int(num):\n",
    "    lis=str(num)\n",
    "    num=[]\n",
    "    ans=0\n",
    "    for i in range(len(lis)):\n",
    "        num.append(int(lis[i]))\t\n",
    "    for i in range(1,10):\n",
    "        a=num.count(i)\n",
    "        for j in range(a):\n",
    "            ans=ans*10+i\n",
    "    print(ans)\n",
    "    pass\n",
    "least_int(54235)"
   ]
  },
  {
   "cell_type": "markdown",
   "metadata": {},
   "source": [
    "<hr/>\n",
    "\n",
    "**Q2) Given a string consisting of words and whitespaces, write a function to print a word consisting of the last letters of all the words beginning with the letter 'a'. Assume that all the alphabets in the strings are lower case.**\n",
    "\n",
    "For e.g.: \n",
    "```\n",
    ">>> mystring = 'apple banana aeroplace machine learning python append'\n",
    ">>> function_a(mystring)\n",
    "eed\n",
    "```"
   ]
  },
  {
   "cell_type": "code",
   "execution_count": 2,
   "metadata": {},
   "outputs": [
    {
     "name": "stdout",
     "output_type": "stream",
     "text": [
      "eed\n"
     ]
    }
   ],
   "source": [
    "def function_a(string1):\n",
    "    element=list(map(str,string1.split()))\n",
    "    for ele in element:\n",
    "        if ele[0]=='a':\n",
    "            print(ele[len(ele)-1],end='')\n",
    "    print()\n",
    "    pass\n",
    "mystring = 'apple banana aeroplace machine learning python append'\n",
    "function_a(mystring)"
   ]
  },
  {
   "cell_type": "markdown",
   "metadata": {},
   "source": [
    "***\n",
    "**Q3) Given a string in the form of a sentence, remove all duplicate words from the sentence.(Order of words in the return value can differ from original)**\n",
    "For e.g.:\n",
    "```\n",
    ">>> mystr = 'Vedang Pro is Pro at ML'\n",
    ">>> remove_dup(mystr)\n",
    "'Vedang at ML Pro is'\n",
    "```"
   ]
  },
  {
   "cell_type": "code",
   "execution_count": 3,
   "metadata": {},
   "outputs": [
    {
     "name": "stdout",
     "output_type": "stream",
     "text": [
      "ML at is Vedang Pro \n"
     ]
    }
   ],
   "source": [
    "def remove_dup(mystring):\n",
    "    abc=set(map(str,mystring.split()))\n",
    "    strg=''\n",
    "    for i in abc:\n",
    "        strg=strg+i+' '\n",
    "    print(strg)\n",
    "    pass\n",
    "mystr='Vedang Pro is Pro at ML'\n",
    "remove_dup(mystr)"
   ]
  },
  {
   "cell_type": "markdown",
   "metadata": {},
   "source": [
    "______\n",
    "**Q4) Write a single line of code to check if a given string ```mystring``` is a palindrome or not.**\n",
    "For e.g.:\n",
    "```\n",
    ">>> mystring = 'SatanoscillatemymetallicsonataS'\n",
    "#your code\n",
    "```"
   ]
  },
  {
   "cell_type": "code",
   "execution_count": 4,
   "metadata": {},
   "outputs": [
    {
     "name": "stdout",
     "output_type": "stream",
     "text": [
      "Yes Palindrome\n"
     ]
    }
   ],
   "source": [
    "mystring='SatanoscillatemymetallicsonataS'\n",
    "yourstring=mystring[::-1]\n",
    "if mystring==yourstring:\n",
    "\tprint(\"Yes Palindrome\")\n",
    "else:\n",
    "\tprint(\"not pali...\")"
   ]
  },
  {
   "cell_type": "markdown",
   "metadata": {},
   "source": [
    "___\n",
    "**Q5) Given a list of integers, create a new list where the i'th entry in the list is the average of previous i - 1 entries in the original list.**\n",
    "For e.g.:\n",
    "```\n",
    ">>> a = [1, 2, 3, 4, 5]\n",
    ">>> list_of_avgs(a)\n",
    "[1.0, 1.5, 2.0, 2.5, 3.0]\n",
    "```"
   ]
  },
  {
   "cell_type": "code",
   "execution_count": 5,
   "metadata": {},
   "outputs": [
    {
     "name": "stdout",
     "output_type": "stream",
     "text": [
      "[1.0, 1.5, 2.0, 2.5, 3.0]\n"
     ]
    }
   ],
   "source": [
    "def list_of_avgs(a):\n",
    "    lis=[]\n",
    "    lis.extend(sum(a[i-1] for i in range(1,n+1))/n  for n in range(1,len(a)+1))\n",
    "    print(lis)\n",
    "    pass\n",
    "a = [1, 2, 3, 4, 5]\n",
    "list_of_avgs(a)"
   ]
  },
  {
   "cell_type": "markdown",
   "metadata": {},
   "source": [
    "___\n",
    "**Q6) Given a list of random integers, modify the list such that all the elements in even places are in ascending order and all those in the odd places appear in a decreasing order. Assume labeling of the places start from the number zero.**\n",
    "\n",
    "For e.g.\n",
    "```\n",
    ">>> a = [1, 8, 4, 5, 2, 5, 3, 9, 4]\n",
    ">>> asc_desc_list(a)\n",
    "[1, 9, 2, 8, 3, 5, 4, 5, 4]\n",
    "```"
   ]
  },
  {
   "cell_type": "code",
   "execution_count": 6,
   "metadata": {},
   "outputs": [
    {
     "name": "stdout",
     "output_type": "stream",
     "text": [
      "[1, 9, 2, 8, 3, 5, 4, 5, 4]\n"
     ]
    }
   ],
   "source": [
    "def asc_desc_list(a):\n",
    "    lis_e=[]\n",
    "    lis_o=[]\n",
    "    final=[]\n",
    "    x=y=0\n",
    "    flag=0\n",
    "    for i in range(len(a)):\n",
    "        if flag==0:\n",
    "            lis_e.append(a[i])\n",
    "            flag=1\n",
    "        else:\n",
    "            lis_o.append(a[i])\n",
    "            flag=0\n",
    "    lis_e.sort()\n",
    "    lis_o.sort(reverse=True)\n",
    "    flag=0\n",
    "    for i in range(len(a)):\n",
    "        if flag==0:\n",
    "            final.append(lis_e[x])\n",
    "            x+=1\n",
    "            flag=1\n",
    "        else:\n",
    "            final.append(lis_o[y])\n",
    "            y+=1\n",
    "            flag=0\n",
    "    print(final)\n",
    "a = [1, 8, 4, 5, 2, 5, 3, 9, 4]\n",
    "asc_desc_list(a)"
   ]
  },
  {
   "cell_type": "markdown",
   "metadata": {},
   "source": [
    "___\n",
    "**Q7) Write an iterator function to return the elements of the Fibonacci series.**"
   ]
  },
  {
   "cell_type": "code",
   "execution_count": 7,
   "metadata": {},
   "outputs": [
    {
     "name": "stdout",
     "output_type": "stream",
     "text": [
      "1\n",
      "1\n",
      "2\n",
      "3\n",
      "5\n",
      "8\n",
      "13\n",
      "21\n",
      "34\n"
     ]
    }
   ],
   "source": [
    "def fibo(n):\n",
    "    abcd=[0,1]\n",
    "    if n==0:\n",
    "        print(0)\n",
    "        return abcd[n]\n",
    "    if n==1:\n",
    "        print(1)\n",
    "        return abcd[n]\n",
    "    for i in range(2,n):\n",
    "        a=abcd[i-1]+abcd[i-2]\n",
    "        abcd.append(abcd[i-1]+abcd[i-2])\n",
    "    for i in range(1,len(abcd)):\n",
    "        print(abcd[i])\n",
    "fibo(10)"
   ]
  },
  {
   "cell_type": "markdown",
   "metadata": {},
   "source": [
    "---\n",
    "**Q8) Print all the sublists of a list, seperated by a comma and a whitespace.**\n",
    "For e.g.:\n",
    "```\n",
    ">>> a = [1, 2]\n",
    ">>> sub_lists(a)\n",
    "[], [1], [1, 2] [2][\n",
    "```"
   ]
  },
  {
   "cell_type": "code",
   "execution_count": 8,
   "metadata": {},
   "outputs": [
    {
     "name": "stdout",
     "output_type": "stream",
     "text": [
      "[], [1], [1, 2], [1, 2, 3], [2], [2, 3], [3]"
     ]
    }
   ],
   "source": [
    "def sub_lists(a):\n",
    "    list1=[]\n",
    "    print(list1,end='')\n",
    "    for i in range(0,len(a)):\n",
    "        for j in range(i+1,len(a)+1):\n",
    "            print(',',a[i:j],end='')\n",
    "a=[1,2,3]\n",
    "sub_lists(a)"
   ]
  },
  {
   "cell_type": "markdown",
   "metadata": {},
   "source": [
    "___\n",
    "**Q9) Write two functions, each of which take a list as an argument.  The first function modifies the list by appending the sum of entries of the list passed as an argument. The second function reassigns a new list to the argument passed, where each entry in the new list is one more than the corresponding entry given as an argument. Is the change reflected outside the functions in both cases? Why/Why not?**\n",
    "Note: For reassign_list(a), you have to reassign a new list to the argument, and not change the existing list."
   ]
  },
  {
   "cell_type": "code",
   "execution_count": 9,
   "metadata": {},
   "outputs": [
    {
     "name": "stdout",
     "output_type": "stream",
     "text": [
      "[1, 2, 3, 6]\n",
      "[1, 2, 3]\n"
     ]
    }
   ],
   "source": [
    "def modify_list(a):\n",
    "    sum1=sum(a)\n",
    "    a.append(sum1)\n",
    "    pass\n",
    "\n",
    "def reassign_list(a):\n",
    "    list1=[a[i]+1 for i in range(len(a))]\n",
    "    a=list1\n",
    "    pass\n",
    "a = [1, 2, 3]\n",
    "modify_list(a)\n",
    "print(a)\n",
    "\n",
    "a = [1, 2, 3]\n",
    "reassign_list(a)\n",
    "print(a)"
   ]
  },
  {
   "cell_type": "markdown",
   "metadata": {},
   "source": [
    "---\n",
    "**Q10) Given a string, return a dictionary consisting of each character in the string and the position at which it occurs. (Positions are to be taken as keys, and position numbering starts from 1)**\n",
    "\n",
    "For e.g.)\n",
    "\n",
    "```\n",
    ">>> a = 'Machine Learning'\n",
    ">>> char_position(a)\n",
    "{1: 'M', 2: 'a', 3: 'c', 4: 'h', 5: 'i', 6: 'n', 7: 'e', 9: 'L', 10: 'e', 11: 'a', 12: 'r', 13: 'n', 14: 'i', 15: 'n', 16: 'g'}\n",
    "```"
   ]
  },
  {
   "cell_type": "code",
   "execution_count": 31,
   "metadata": {},
   "outputs": [
    {
     "name": "stdout",
     "output_type": "stream",
     "text": [
      "{1: 'M', 2: 'a', 3: 'c', 4: 'h', 5: 'i', 6: 'n', 7: 'e', 9: 'L', 10: 'e', 11: 'a', 12: 'r', 13: 'n', 14: 'i', 15: 'n', 16: 'g'}\n"
     ]
    }
   ],
   "source": [
    "def char_position(a):\n",
    "    abcd=dict({i+1: a[i] for i in range(len(a))})\n",
    "    for x in list(abcd.keys()):\n",
    "        if abcd[x].isalpha()==False:\n",
    "            del abcd[x]\n",
    "    print(abcd)\n",
    "    pass\n",
    "a = 'Machine Learning'\n",
    "char_position(a)"
   ]
  },
  {
   "cell_type": "markdown",
   "metadata": {},
   "source": [
    "---\n",
    "\n",
    "**Q11) Given a string, arrange the characters in increasing order of their frequency at which they appear(Ignore any whitespaces)**\n",
    "\n",
    "For e.g.:\n",
    "```\n",
    ">>> a = 'ifadhaiusbdufbugfsdbfubgsidf'\n",
    ">>> sort_by_freq(a)\n",
    "'haaggiiisssdddduuuubbbbfffff'\n",
    "```"
   ]
  },
  {
   "cell_type": "code",
   "execution_count": 11,
   "metadata": {},
   "outputs": [
    {
     "name": "stdout",
     "output_type": "stream",
     "text": [
      "hggaasssiiiuuuuddddbbbbfffff\n"
     ]
    }
   ],
   "source": [
    "import string\n",
    "def sort_by_freq(a):\n",
    "    d = dict.fromkeys(string.ascii_lowercase, 0)\n",
    "    for i in range(0,len(a)):\n",
    "        d[a[i]]+=1\n",
    "    pass\n",
    "    flag=1\n",
    "    str1=''\n",
    "    while flag:\n",
    "        abc=max(d, key=d.get)\n",
    "        if d[abc]==0:\n",
    "            break\n",
    "        for x in range(0,d[abc]):\n",
    "            str1=abc+str1      \n",
    "        d[abc]=0\n",
    "    print(str1)\n",
    "a = 'ifadhaiusbdufbugfsdbfubgsidf'\n",
    "sort_by_freq(a)"
   ]
  },
  {
   "cell_type": "markdown",
   "metadata": {},
   "source": [
    "---\n",
    "---\n",
    "**Q12)**\n",
    "\n",
    "**A) Create a file called myfile.txt**\n",
    "\n",
    "**B) Enter some a random paragraph into the file.**\n",
    "\n",
    "**C) Take an integer input n from the user. Create a file with the name as the nth word in myfile.txt.(Assume that n is less than the number of words in your file.)**\n",
    "\n",
    "**D) Enter the paragraph from myfile.txt into your new file, in reverse order. \n",
    "Note: In part (D) only the order of the words should change, the words are not reversed in themselves.**"
   ]
  },
  {
   "cell_type": "code",
   "execution_count": 12,
   "metadata": {},
   "outputs": [
    {
     "name": "stdout",
     "output_type": "stream",
     "text": [
      "4\n"
     ]
    },
    {
     "data": {
      "text/plain": [
       "<function TextIOWrapper.close>"
      ]
     },
     "execution_count": 12,
     "metadata": {},
     "output_type": "execute_result"
    }
   ],
   "source": [
    "n=int(input())\n",
    "fo=open(\"myfile.txt\",'r')\n",
    "abcd=fo.read().split()\n",
    "name=abcd[n-1]\n",
    "f1=open(name,'w')\n",
    "for i in range(len(abcd)-1,-1,-1):\n",
    "    f1.write(abcd[i])\n",
    "    f1.write(' ')\n",
    "fo.close\n",
    "f1.close"
   ]
  }
 ],
 "metadata": {
  "kernelspec": {
   "display_name": "Python 3",
   "language": "python",
   "name": "python3"
  },
  "language_info": {
   "codemirror_mode": {
    "name": "ipython",
    "version": 3
   },
   "file_extension": ".py",
   "mimetype": "text/x-python",
   "name": "python",
   "nbconvert_exporter": "python",
   "pygments_lexer": "ipython3",
   "version": "3.6.1"
  }
 },
 "nbformat": 4,
 "nbformat_minor": 2
}
