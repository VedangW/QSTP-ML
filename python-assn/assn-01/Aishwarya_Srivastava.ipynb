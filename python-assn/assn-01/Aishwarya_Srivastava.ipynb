{
 "cells": [
  {
   "cell_type": "markdown",
   "metadata": {},
   "source": [
    "# Assignment 1: Strings, Lists and Files\n",
    "\n",
    "This assignment is based on basic python operations and to help you get a better understanding of lists, dictionaries, string operations, file I/O and other basic python operations. All the best!"
   ]
  },
  {
   "cell_type": "markdown",
   "metadata": {},
   "source": [
    "**Q1) Given an positive integer, write a function to print the smallest integer that can be formed by rearranging the digits of the given number.**\n",
    "\n",
    "For e.g.:\n",
    "```\n",
    "    >>> least_int(54235)\n",
    "    23455\n",
    "```"
   ]
  },
  {
   "cell_type": "code",
   "execution_count": 3,
   "metadata": {},
   "outputs": [
    {
     "data": {
      "text/plain": [
       "'23455'"
      ]
     },
     "execution_count": 3,
     "metadata": {},
     "output_type": "execute_result"
    }
   ],
   "source": [
    "def least_int(num):\n",
    "\n",
    "    ans = str(num)\n",
    "    y = []\n",
    "    for i in range(len(ans)):\n",
    "        y.append(ans[i])\n",
    "\n",
    "    y.sort()\n",
    "\n",
    "    ans = \"\"\n",
    "    for i in range(len(y)):\n",
    "        ans+=(y[i])\n",
    "\n",
    "    return ans"
   ]
  },
  {
   "cell_type": "markdown",
   "metadata": {},
   "source": [
    "<hr/>\n",
    "\n",
    "**Q2) Given a string consisting of words and whitespaces, write a function to print a word consisting of the last letters of all the words beginning with the letter 'a'. Assume that all the alphabets in the strings are lower case.**\n",
    "\n",
    "For e.g.: \n",
    "```\n",
    ">>> mystring = 'apple banana aeroplace machine learning python append'\n",
    ">>> function_a(mystring)\n",
    "eed\n",
    "```"
   ]
  },
  {
   "cell_type": "code",
   "execution_count": 4,
   "metadata": {},
   "outputs": [
    {
     "data": {
      "text/plain": [
       "'eed'"
      ]
     },
     "execution_count": 4,
     "metadata": {},
     "output_type": "execute_result"
    }
   ],
   "source": [
    "def function_a(string1):\n",
    "    y = string1.split()\n",
    "    ans = \"\"\n",
    "\n",
    "    for i in range(len(y)):\n",
    "        if y[i][0] == \"a\":\n",
    "            ans += y[i][-1]\n",
    "    return ans"
   ]
  },
  {
   "cell_type": "markdown",
   "metadata": {},
   "source": [
    "***\n",
    "**Q3) Given a string in the form of a sentence, remove all duplicate words from the sentence.(Order of words in the return value can differ from original)**\n",
    "For e.g.:\n",
    "```\n",
    ">>> mystr = 'Vedang Pro is Pro at ML'\n",
    ">>> remove_dup(mystr)\n",
    "'Vedang at ML Pro is'\n",
    "```"
   ]
  },
  {
   "cell_type": "code",
   "execution_count": 5,
   "metadata": {},
   "outputs": [
    {
     "data": {
      "text/plain": [
       "'ML Pro at Vedang is '"
      ]
     },
     "execution_count": 5,
     "metadata": {},
     "output_type": "execute_result"
    }
   ],
   "source": [
    "def remove_dup(mystring):\n",
    "    l = mystring.split()\n",
    "    ans = set()\n",
    "    for i in l:\n",
    "        ans.add(i)\n",
    "    fstr = \"\"\n",
    "    for i in ans:\n",
    "        fstr += i\n",
    "        fstr += \" \"\n",
    "    return fstr"
   ]
  },
  {
   "cell_type": "markdown",
   "metadata": {},
   "source": [
    "______\n",
    "**Q4) Write a single line of code to check if a given string ```mystring``` is a palindrome or not.**\n",
    "For e.g.:\n",
    "```\n",
    ">>> mystring = 'SatanoscillatemymetallicsonataS'\n",
    "#your code\n",
    "```"
   ]
  },
  {
   "cell_type": "code",
   "execution_count": 7,
   "metadata": {},
   "outputs": [
    {
     "data": {
      "text/plain": [
       "False"
      ]
     },
     "execution_count": 7,
     "metadata": {},
     "output_type": "execute_result"
    }
   ],
   "source": [
    "mystring = '' #give any random string\n",
    "mystring == mystring[::-1]"
   ]
  },
  {
   "cell_type": "markdown",
   "metadata": {},
   "source": [
    "___\n",
    "**Q5) Given a list of integers, create a new list where the i'th entry in the list is the average of previous i - 1 entries in the original list.**\n",
    "For e.g.:\n",
    "```\n",
    ">>> a = [1, 2, 3, 4, 5]\n",
    ">>> list_of_avgs(a)\n",
    "[1.0, 1.5, 2.0, 2.5, 3.0]\n",
    "```"
   ]
  },
  {
   "cell_type": "code",
   "execution_count": 22,
   "metadata": {},
   "outputs": [],
   "source": [
    "def list_of_avgs(a):\n",
    "\n",
    "    sum = 0.0\n",
    "    avg = []\n",
    "\n",
    "    for i in range(len(a)):\n",
    "        sum += a[i]\n",
    "\n",
    "        avg.append(sum/(i+1))\n",
    "\n",
    "    return avg"
   ]
  },
  {
   "cell_type": "markdown",
   "metadata": {},
   "source": [
    "___\n",
    "**Q6) Given a list of random integers, modify the list such that all the elements in even places are in ascending order and all those in the odd places appear in a decreasing order. Assume labeling of the places start from the number zero.**\n",
    "\n",
    "For e.g.\n",
    "```\n",
    ">>> a = [1, 8, 4, 5, 2, 5, 3, 9, 4]\n",
    ">>> asc_desc_list(a)\n",
    "[1, 9, 2, 8, 3, 5, 4, 5, 4]\n",
    "```"
   ]
  },
  {
   "cell_type": "code",
   "execution_count": 23,
   "metadata": {},
   "outputs": [],
   "source": [
    "def asc_desc_list(a):\n",
    "    asc = []\n",
    "    dec = []\n",
    "    for i in range(int(len(a)/2)):\n",
    "        if 2*i < len(a):\n",
    "            asc.append(a[2*i])\n",
    "\n",
    "    for i in range(int(len(a)/2)):\n",
    "        if 2*i + 1 < len(a):\n",
    "            dec.append(a[2*i + 1])\n",
    "\n",
    "    asc.sort()\n",
    "    dec.sort(reverse = True)\n",
    "\n",
    "    ans = []\n",
    "\n",
    "    for i in range(len(asc)):\n",
    "        ans.append(asc[i])\n",
    "        if i < len(dec):\n",
    "            ans.append(dec[i])\n",
    "\n",
    "    return ans"
   ]
  },
  {
   "cell_type": "markdown",
   "metadata": {},
   "source": [
    "___\n",
    "**Q7) Write an iterator function to return the elements of the Fibonacci series.**"
   ]
  },
  {
   "cell_type": "code",
   "execution_count": 24,
   "metadata": {},
   "outputs": [],
   "source": [
    "def fib():\n",
    "    a = 0\n",
    "    b = 1\n",
    "\n",
    "    while 1 == 1:\n",
    "        yield b\n",
    "        c = b\n",
    "        b = a+b\n",
    "        a = c\n",
    "\n",
    "ite = fib()"
   ]
  },
  {
   "cell_type": "markdown",
   "metadata": {},
   "source": [
    "---\n",
    "**Q8) Print all the sublists of a list, seperated by a comma and a whitespace.**\n",
    "For e.g.:\n",
    "```\n",
    ">>> a = [1, 2]\n",
    ">>> sub_lists(a)\n",
    "[], [1], [1, 2] [2][\n",
    "```"
   ]
  },
  {
   "cell_type": "code",
   "execution_count": 25,
   "metadata": {},
   "outputs": [],
   "source": [
    "def sub_lists(a):\n",
    "    subs = [[]]\n",
    "    for i in range(len(a)):\n",
    "        print(\"i\",i)\n",
    "        for j in range(i + 1, len(a)+1):\n",
    "            print(\"j\",j)\n",
    "            sub = a[i:j]\n",
    "            print(sub)\n",
    "            subs.append(sub)\n",
    "\n",
    "    for i in subs:\n",
    "        if(i != []):\n",
    "            print(\",\",i,end=\"\")\n",
    "        else:\n",
    "            print(i,end=\"\")\n",
    "\n",
    "    print()"
   ]
  },
  {
   "cell_type": "markdown",
   "metadata": {},
   "source": [
    "---\n",
    "**Q9) Write two functions, each of which take a list as an argument.  The first function modifies the list by appending the sum of entries of the list passed as an argument. The second function reassigns a new list to the argument passed, where each entry in the new list is one more than the corresponding entry given as an argument. Is the change reflected outside the functions in both cases? Why/Why not?**\n",
    "Note: For reassign_list(a), you have to reassign a new list to the argument, and not change the existing list."
   ]
  },
  {
   "cell_type": "code",
   "execution_count": 8,
   "metadata": {},
   "outputs": [
    {
     "name": "stdout",
     "output_type": "stream",
     "text": [
      "[1, 2, 3, 6]\n",
      "[1, 2, 3]\n"
     ]
    }
   ],
   "source": [
    "def modify_list(a):\n",
    "    sum = 0\n",
    "    for i in a:\n",
    "        sum += i\n",
    "    a.append(sum)\n",
    "    # appended into the passed variable change will be reflected\n",
    "\n",
    "def reassign_list(a):\n",
    "    b = []\n",
    "    for i in a:\n",
    "        b.append(i+1)\n",
    "    a = b\n",
    "    # a new local variable created so no change will be reflected\n",
    "a = [1, 2, 3]\n",
    "modify_list(a)\n",
    "print(a)\n",
    "\n",
    "a = [1, 2, 3]\n",
    "reassign_list(a)\n",
    "print(a)"
   ]
  },
  {
   "cell_type": "markdown",
   "metadata": {},
   "source": [
    "---\n",
    "**Q10) Given a string, return a dictionary consisting of each character in the string and the position at which it occurs. (Positions are to be taken as keys, and position numbering starts from 1)**\n",
    "\n",
    "For e.g.)\n",
    "\n",
    "```\n",
    ">>> a = 'Machine Learning'\n",
    ">>> char_position(a)\n",
    "{1: 'M', 2: 'a', 3: 'c', 4: 'h', 5: 'i', 6: 'n', 7: 'e', 9: 'L', 10: 'e', 11: 'a', 12: 'r', 13: 'n', 14: 'i', 15: 'n', 16: 'g'}\n",
    "```"
   ]
  },
  {
   "cell_type": "code",
   "execution_count": 28,
   "metadata": {},
   "outputs": [],
   "source": [
    "def char_position(a):\n",
    "    dic = {}\n",
    "    for i in range(len(a)):\n",
    "        if a[i] != \" \":\n",
    "            dic[i+1] = a[i]\n",
    "\n",
    "    return dic"
   ]
  },
  {
   "cell_type": "markdown",
   "metadata": {},
   "source": [
    "---\n",
    "\n",
    "**Q11) Given a string, arrange the characters in increasing order of their frequency at which they appear(Ignore any whitespaces)**\n",
    "\n",
    "For e.g.:\n",
    "```\n",
    ">>> a = 'ifadhaiusbdufbugfsdbfubgsidf'\n",
    ">>> sort_by_freq(a)\n",
    "'haaggiiisssdddduuuubbbbfffff'\n",
    "```"
   ]
  },
  {
   "cell_type": "code",
   "execution_count": 9,
   "metadata": {},
   "outputs": [
    {
     "data": {
      "text/plain": [
       "'haaggiiisssbbbbdddduuuufffff'"
      ]
     },
     "execution_count": 9,
     "metadata": {},
     "output_type": "execute_result"
    }
   ],
   "source": [
    "def sort_by_freq(a):\n",
    "    lis_a = []\n",
    "    for i in range(len(a)):\n",
    "        if a[i] != \" \":\n",
    "            lis_a.append(a[i])\n",
    "\n",
    "    lis_a.sort()\n",
    "\n",
    "    dic = {}\n",
    "    ch = lis_a[0]\n",
    "    cou = 0\n",
    "    for i in lis_a:\n",
    "        if ch == i:\n",
    "            cou += 1\n",
    "        else:\n",
    "            dic[ch] = cou\n",
    "            ch = i\n",
    "            cou = 1\n",
    "\n",
    "    dic[ch] = cou\n",
    "\n",
    "    lis_a = sorted(dic, key=dic.get)\n",
    "\n",
    "    ans = \"\"\n",
    "\n",
    "    for i in lis_a:\n",
    "        for j in range(dic[i]):\n",
    "            ans += i\n",
    "\n",
    "    return ans\n"
   ]
  },
  {
   "cell_type": "markdown",
   "metadata": {},
   "source": [
    "---\n",
    "---\n",
    "**Q12)**\n",
    "\n",
    "**A) Create a file called myfile.txt**\n",
    "\n",
    "**B) Enter some a random paragraph into the file.**\n",
    "\n",
    "**C) Take an integer input n from the user. Create a file with the name as the nth word in myfile.txt.(Assume that n is less than the number of words in your file.)**\n",
    "\n",
    "**D) Enter the paragraph from myfile.txt into your new file, in reverse order. \n",
    "Note: In part (D) only the order of the words should change, the words are not reversed in themselves.**"
   ]
  }
 ],
 "metadata": {
  "kernelspec": {
   "display_name": "Python 3",
   "language": "python",
   "name": "python3"
  },
  "language_info": {
   "codemirror_mode": {
    "name": "ipython",
    "version": 3
   },
   "file_extension": ".py",
   "mimetype": "text/x-python",
   "name": "python",
   "nbconvert_exporter": "python",
   "pygments_lexer": "ipython3",
   "version": "3.6.5"
  }
 },
 "nbformat": 4,
 "nbformat_minor": 2
}
