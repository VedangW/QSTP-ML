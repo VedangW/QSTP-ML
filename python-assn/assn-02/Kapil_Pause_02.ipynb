{
 "cells": [
  {
   "cell_type": "markdown",
   "metadata": {},
   "source": [
    "Numpy exercise\n",
    "===\n",
    "\n",
    "This exercise is designed to get you familiarised with numpy and shows the most common operations that you will perform in the future.\n",
    "\n",
    "You will need the Iris.csv file from the GitHub repositry to perform this exercise.\n",
    "\n",
    "Write your code in the following way:\n",
    "#################################<br>\n",
    "\n",
    "Your code here\n",
    "#################################"
   ]
  },
  {
   "cell_type": "code",
   "execution_count": 1,
   "metadata": {},
   "outputs": [],
   "source": [
    "import numpy as np"
   ]
  },
  {
   "cell_type": "code",
   "execution_count": 8,
   "metadata": {},
   "outputs": [
    {
     "name": "stdout",
     "output_type": "stream",
     "text": [
      "[[ 0  1  2  3]\n",
      " [ 4  5  6  7]\n",
      " [ 8  9 10 11]\n",
      " [12 13 14 15]]\n"
     ]
    }
   ],
   "source": [
    "A=np.arange(16)   #This creates a vector with values from 0 to 15.\n",
    "\n",
    "#Reshape A into a 4x4 numpy array and print the array\n",
    "#################################\n",
    "A=A.reshape((4,4))\n",
    "print(A)\n",
    "#################################"
   ]
  },
  {
   "cell_type": "markdown",
   "metadata": {},
   "source": [
    "Expected output:<br>\n",
    "[[ 0  1  2  3]\n",
    " [ 4  5  6  7]\n",
    " [ 8  9 10 11]\n",
    " [12 13 14 15]]"
   ]
  },
  {
   "cell_type": "code",
   "execution_count": 9,
   "metadata": {
    "scrolled": true
   },
   "outputs": [
    {
     "name": "stdout",
     "output_type": "stream",
     "text": [
      "[[  0   1   4   9]\n",
      " [ 16  25  36  49]\n",
      " [ 64  81 100 121]\n",
      " [144 169 196 225]]\n"
     ]
    }
   ],
   "source": [
    "#Create another array B which is made of square of each elements of B and print B.\n",
    "#################################\n",
    "B=A**2\n",
    "print(B)\n",
    "#################################"
   ]
  },
  {
   "cell_type": "markdown",
   "metadata": {},
   "source": [
    "Expected output:<br>\n",
    "[[  0   1   4   9]\n",
    " [ 16  25  36  49]\n",
    " [ 64  81 100 121]\n",
    " [144 169 196 225]]\n"
   ]
  },
  {
   "cell_type": "code",
   "execution_count": 5,
   "metadata": {},
   "outputs": [
    {
     "name": "stdout",
     "output_type": "stream",
     "text": [
      "[ 17.15485691  26.26559605   6.15993013 -44.27603759 -31.66386308\n",
      "  14.60983905 -59.84024953   6.35993218   2.11801071 -76.06750328]\n"
     ]
    }
   ],
   "source": [
    "#Create a numpy array of shape (28,28) whose values are chosen randomly from 0-255\n",
    "#################################\n",
    "x=np.random.randint(256,size=(28,28))\n",
    "#################################\n",
    "\n",
    "#Convert x into a vector (Make it of single dimension)\n",
    "#################################\n",
    "x=x.flatten()\n",
    "#################################\n",
    "\n",
    "#Add the number 1 at the start of x\n",
    "# e.g.: If x is [3,2,5,7,5,...], new x should be [1,3,2,5,7,5,...]\n",
    "#################################\n",
    "x=np.concatenate((np.array([1]),x),axis=0)\n",
    "#################################\n",
    "\n",
    "#Create  vector W of shape (785,10) whose values follow a normal distribution with mean=0 and standard dev=0.01\n",
    "#################################\n",
    "mu,dev=0,0.01\n",
    "W=np.random.normal(mu,dev,(785,10))\n",
    "#################################\n",
    "\n",
    "#Multiply the 2 matrices W and x. (Keep in mind the shape of the two)\n",
    "#################################\n",
    "ans=np.matmul(x,W)  \n",
    "print(ans)\n",
    "#################################"
   ]
  },
  {
   "cell_type": "code",
   "execution_count": 11,
   "metadata": {},
   "outputs": [],
   "source": [
    "#Load the Iris.csv file into numpy array 'data' and shuffle the data.(The data array should contain rows in random order)\n",
    "#################################\n",
    "data=np.genfromtxt('Iris.csv',delimiter=',')\n",
    "np.random.shuffle(data)\n",
    "#################################\n",
    "\n",
    "\n",
    "#Create a numpy array X that contains the firts 4 columns of data. Keep the last column of data in numpy array y.\n",
    "#################################\n",
    "X=data[:,:4]\n",
    "y=data[:,4]\n",
    "#################################"
   ]
  },
  {
   "cell_type": "code",
   "execution_count": 12,
   "metadata": {},
   "outputs": [
    {
     "name": "stdout",
     "output_type": "stream",
     "text": [
      "[[5.6 2.8 4.9 2.  2. ]\n",
      " [5.1 3.4 1.5 0.2 0. ]\n",
      " [4.9 2.5 4.5 1.7 2. ]\n",
      " [5.6 3.  4.1 1.3 1. ]\n",
      " [5.7 2.8 4.1 1.3 1. ]\n",
      " [4.8 3.1 1.6 0.2 0. ]\n",
      " [6.4 2.8 5.6 2.2 2. ]\n",
      " [5.4 3.7 1.5 0.2 0. ]\n",
      " [7.7 3.8 6.7 2.2 2. ]\n",
      " [6.7 3.1 5.6 2.4 2. ]]\n",
      "[]\n",
      "[[5.6 2.8 4.9 2.  2. ]\n",
      " [4.9 2.5 4.5 1.7 2. ]\n",
      " [6.4 2.8 5.6 2.2 2. ]\n",
      " [7.7 3.8 6.7 2.2 2. ]\n",
      " [6.7 3.1 5.6 2.4 2. ]\n",
      " [6.3 2.5 5.  1.9 2. ]\n",
      " [7.9 3.8 6.4 2.  2. ]\n",
      " [6.5 3.  5.2 2.  2. ]\n",
      " [5.8 2.7 5.1 1.9 2. ]\n",
      " [7.1 3.  5.9 2.1 2. ]\n",
      " [6.1 3.  4.9 1.8 2. ]\n",
      " [5.8 2.8 5.1 2.4 2. ]\n",
      " [6.8 3.  5.5 2.1 2. ]\n",
      " [6.7 3.3 5.7 2.1 2. ]\n",
      " [7.2 3.  5.8 1.6 2. ]\n",
      " [6.8 3.2 5.9 2.3 2. ]\n",
      " [6.3 2.7 4.9 1.8 2. ]\n",
      " [5.7 2.5 5.  2.  2. ]\n",
      " [6.2 3.4 5.4 2.3 2. ]\n",
      " [6.  3.  4.8 1.8 2. ]\n",
      " [7.6 3.  6.6 2.1 2. ]\n",
      " [6.7 2.5 5.8 1.8 2. ]\n",
      " [6.  2.2 5.  1.5 2. ]\n",
      " [6.4 3.1 5.5 1.8 2. ]\n",
      " [7.2 3.6 6.1 2.5 2. ]\n",
      " [6.2 2.8 4.8 1.8 2. ]\n",
      " [6.7 3.3 5.7 2.5 2. ]\n",
      " [6.3 3.3 6.  2.5 2. ]\n",
      " [6.1 2.6 5.6 1.4 2. ]\n",
      " [6.4 2.8 5.6 2.1 2. ]\n",
      " [5.9 3.  5.1 1.8 2. ]\n",
      " [6.5 3.  5.5 1.8 2. ]\n",
      " [5.8 2.7 5.1 1.9 2. ]\n",
      " [7.7 2.8 6.7 2.  2. ]\n",
      " [6.3 2.8 5.1 1.5 2. ]\n",
      " [6.5 3.  5.8 2.2 2. ]\n",
      " [7.2 3.2 6.  1.8 2. ]\n",
      " [6.9 3.1 5.4 2.1 2. ]\n",
      " [7.4 2.8 6.1 1.9 2. ]\n",
      " [6.9 3.1 5.1 2.3 2. ]\n",
      " [7.3 2.9 6.3 1.8 2. ]\n",
      " [7.7 3.  6.1 2.3 2. ]\n",
      " [6.5 3.2 5.1 2.  2. ]\n",
      " [6.4 3.2 5.3 2.3 2. ]\n",
      " [6.4 2.7 5.3 1.9 2. ]\n",
      " [6.3 3.4 5.6 2.4 2. ]\n",
      " [7.7 2.6 6.9 2.3 2. ]\n",
      " [6.7 3.  5.2 2.3 2. ]\n",
      " [6.3 2.9 5.6 1.8 2. ]\n",
      " [6.9 3.2 5.7 2.3 2. ]]\n"
     ]
    }
   ],
   "source": [
    "# Print the following:\n",
    "# 1) First 10 values of data\n",
    "# 2) Last 10 values of data\n",
    "# 3) All rows of X whose corresponding value in y is 2\n",
    "\n",
    "#################################\n",
    "\n",
    "print(data[:10,:])\n",
    "print(data[-10:5,:])\n",
    "\n",
    "rowmask=data[:,4]==2\n",
    "print(data[rowmask,:])\n",
    "#################################"
   ]
  },
  {
   "cell_type": "code",
   "execution_count": 14,
   "metadata": {},
   "outputs": [],
   "source": [
    "# Create a numpy array y1 of same length as y and number of columns 3. \n",
    "# Values of y1 are such that,\n",
    "# If y contains 0, y1 should have (1,0,0)\n",
    "# If y contains 1, y1 should have (0,1,0)\n",
    "# If y contains 2, y1 should have (0,0,1)\n",
    "# This type of encoding is known as one-hot encoding\n",
    "\n",
    "y1=[[0,0,0] for i in range(len(y))]\n",
    "for i in range(len(y)):\n",
    "    y1[i][int(y[i])]=1\n",
    "y1=np.array(y1)"
   ]
  },
  {
   "cell_type": "code",
   "execution_count": null,
   "metadata": {},
   "outputs": [],
   "source": []
  }
 ],
 "metadata": {
  "kernelspec": {
   "display_name": "Python 3",
   "language": "python",
   "name": "python3"
  },
  "language_info": {
   "codemirror_mode": {
    "name": "ipython",
    "version": 3
   },
   "file_extension": ".py",
   "mimetype": "text/x-python",
   "name": "python",
   "nbconvert_exporter": "python",
   "pygments_lexer": "ipython3",
   "version": "3.6.4"
  }
 },
 "nbformat": 4,
 "nbformat_minor": 2
}
