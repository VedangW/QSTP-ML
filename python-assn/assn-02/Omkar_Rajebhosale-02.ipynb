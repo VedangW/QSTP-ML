{
 "cells": [
  {
   "cell_type": "code",
   "execution_count": 11,
   "metadata": {},
   "outputs": [],
   "source": [
    "import numpy as np"
   ]
  },
  {
   "cell_type": "code",
   "execution_count": 12,
   "metadata": {
    "scrolled": true
   },
   "outputs": [
    {
     "name": "stdout",
     "output_type": "stream",
     "text": [
      "[[ 0  1  2  3]\n",
      " [ 4  5  6  7]\n",
      " [ 8  9 10 11]\n",
      " [12 13 14 15]]\n"
     ]
    }
   ],
   "source": [
    "A = np.arange(16)    #This creates a vector with values from 0 to 15.\n",
    "\n",
    "#Reshape A into a 4x4 numpy array and print the array\n",
    "#################################\n",
    "\n",
    "R = A.reshape((4,4))\n",
    "print (R)\n",
    "\n",
    "#################################      "
   ]
  },
  {
   "cell_type": "code",
   "execution_count": 13,
   "metadata": {
    "scrolled": true
   },
   "outputs": [
    {
     "name": "stdout",
     "output_type": "stream",
     "text": [
      "[[  0   1   4   9]\n",
      " [ 16  25  36  49]\n",
      " [ 64  81 100 121]\n",
      " [144 169 196 225]]\n"
     ]
    }
   ],
   "source": [
    "#Create another array B which is made of square of each elements of B[changed to R] and print B.\n",
    "#################################\n",
    "\n",
    "B = np.square(R)\n",
    "print (B)\n",
    "\n",
    "#################################"
   ]
  },
  {
   "cell_type": "code",
   "execution_count": 14,
   "metadata": {},
   "outputs": [
    {
     "data": {
      "text/plain": [
       "array([ 50.01026923,  37.57927816,  51.59954058,  21.46386098,\n",
       "       -48.78244569, -21.39896047, -29.12738484, -57.2421675 ,\n",
       "       -46.57999874,  -9.67706059])"
      ]
     },
     "execution_count": 14,
     "metadata": {},
     "output_type": "execute_result"
    }
   ],
   "source": [
    "#Create a numpy array of shape (28,28) whose values are chosen randomly from 0-255\n",
    "#################################\n",
    "\n",
    "X = np.random.randint(255,size=(28,28))\n",
    "\n",
    "#################################\n",
    "\n",
    "#Convert x into a vector (Make it of single dimension)\n",
    "#################################\n",
    "\n",
    "X = X.flatten() \n",
    "\n",
    "#################################\n",
    "\n",
    "#Add the number 1 at the start of x\n",
    "# e.g.: If x is [3,2,5,7,5,...], new x should be [1,3,2,5,7,5,...]\n",
    "#################################\n",
    "\n",
    "X = np.insert(X,0,1)\n",
    "\n",
    "#################################\n",
    "\n",
    "#Create  vector W of shape (785,10) whose values follow a normal distribution with mean=0 and standard dev=0.01\n",
    "#################################\n",
    "\n",
    "W=np.random.normal(0,0.01,size = (785,10))\n",
    "\n",
    "#################################\n",
    "\n",
    "#Multiply the 2 matrices W and x. (Keep in mind the shape of the two)\n",
    "#################################\n",
    "\n",
    "np.matmul(X,W)                      \n",
    "\n",
    "#################################\n"
   ]
  },
  {
   "cell_type": "code",
   "execution_count": 49,
   "metadata": {
    "scrolled": false
   },
   "outputs": [],
   "source": [
    "#Load the Iris.csv file into numpy array 'data' and shuffle the data.(The data array should contain rows in random order)\n",
    "#################################\n",
    "\n",
    "data = np.genfromtxt('Iris.csv',delimiter=',')\n",
    "np.random.shuffle(data) \n",
    "\n",
    "#################################\n",
    "\n",
    "\n",
    "#Create a numpy array X that contains the first 4 columns of data. Keep the last column of data in numpy array y.\n",
    "#################################\n",
    "\n",
    "X=np.array(data[:,0:4])\n",
    "Y=np.array(data[:,4])\n",
    "\n",
    "#################################\n"
   ]
  },
  {
   "cell_type": "code",
   "execution_count": 50,
   "metadata": {},
   "outputs": [
    {
     "name": "stdout",
     "output_type": "stream",
     "text": [
      "[[5.7 2.9 4.2 1.3 1. ]\n",
      " [6.1 2.9 4.7 1.4 1. ]\n",
      " [4.6 3.6 1.  0.2 0. ]\n",
      " [6.7 3.1 4.4 1.4 1. ]\n",
      " [5.  3.  1.6 0.2 0. ]\n",
      " [6.  2.2 5.  1.5 2. ]\n",
      " [6.7 3.3 5.7 2.1 2. ]\n",
      " [6.1 2.6 5.6 1.4 2. ]\n",
      " [5.4 3.4 1.5 0.4 0. ]\n",
      " [5.4 3.  4.5 1.5 1. ]]\n",
      "[[5.7 2.5 5.  2.  2. ]\n",
      " [6.3 2.5 4.9 1.5 1. ]\n",
      " [4.9 3.  1.4 0.2 0. ]\n",
      " [5.  2.  3.5 1.  1. ]\n",
      " [5.5 2.6 4.4 1.2 1. ]\n",
      " [6.  2.2 4.  1.  1. ]\n",
      " [5.9 3.  5.1 1.8 2. ]\n",
      " [6.1 3.  4.9 1.8 2. ]\n",
      " [4.8 3.4 1.9 0.2 0. ]\n",
      " [6.2 3.4 5.4 2.3 2. ]]\n",
      "[[6.  2.2 5.  1.5]\n",
      " [6.7 3.3 5.7 2.1]\n",
      " [6.1 2.6 5.6 1.4]\n",
      " [6.4 2.8 5.6 2.2]\n",
      " [7.7 3.  6.1 2.3]\n",
      " [7.7 3.8 6.7 2.2]\n",
      " [6.7 3.3 5.7 2.5]\n",
      " [5.6 2.8 4.9 2. ]\n",
      " [6.9 3.2 5.7 2.3]\n",
      " [7.2 3.  5.8 1.6]\n",
      " [5.8 2.7 5.1 1.9]\n",
      " [6.7 3.  5.2 2.3]\n",
      " [6.3 2.7 4.9 1.8]\n",
      " [6.5 3.  5.5 1.8]\n",
      " [6.4 3.1 5.5 1.8]\n",
      " [6.9 3.1 5.4 2.1]\n",
      " [7.7 2.6 6.9 2.3]\n",
      " [6.9 3.1 5.1 2.3]\n",
      " [6.4 2.8 5.6 2.1]\n",
      " [5.8 2.8 5.1 2.4]\n",
      " [7.2 3.6 6.1 2.5]\n",
      " [6.8 3.2 5.9 2.3]\n",
      " [6.3 3.4 5.6 2.4]\n",
      " [6.5 3.  5.2 2. ]\n",
      " [6.3 3.3 6.  2.5]\n",
      " [6.2 2.8 4.8 1.8]\n",
      " [6.3 2.5 5.  1.9]\n",
      " [7.4 2.8 6.1 1.9]\n",
      " [6.3 2.8 5.1 1.5]\n",
      " [6.3 2.9 5.6 1.8]\n",
      " [7.3 2.9 6.3 1.8]\n",
      " [6.5 3.2 5.1 2. ]\n",
      " [6.5 3.  5.8 2.2]\n",
      " [6.4 3.2 5.3 2.3]\n",
      " [6.4 2.7 5.3 1.9]\n",
      " [6.8 3.  5.5 2.1]\n",
      " [7.7 2.8 6.7 2. ]\n",
      " [7.6 3.  6.6 2.1]\n",
      " [5.8 2.7 5.1 1.9]\n",
      " [7.2 3.2 6.  1.8]\n",
      " [6.7 2.5 5.8 1.8]\n",
      " [4.9 2.5 4.5 1.7]\n",
      " [7.1 3.  5.9 2.1]\n",
      " [7.9 3.8 6.4 2. ]\n",
      " [6.  3.  4.8 1.8]\n",
      " [6.7 3.1 5.6 2.4]\n",
      " [5.7 2.5 5.  2. ]\n",
      " [5.9 3.  5.1 1.8]\n",
      " [6.1 3.  4.9 1.8]\n",
      " [6.2 3.4 5.4 2.3]]\n"
     ]
    }
   ],
   "source": [
    "# Print the following:\n",
    "# 1) First 10 values of data\n",
    "# 2) Last 10 values of data\n",
    "# 3) All rows of X whose corresponding value in y is 2\n",
    "\n",
    "#################################\n",
    "\n",
    "print(data[0:10])\n",
    "print(data[-10:]) \n",
    "print(X[Y==2.0])\n",
    "\n",
    "#################################"
   ]
  },
  {
   "cell_type": "code",
   "execution_count": 51,
   "metadata": {},
   "outputs": [],
   "source": [
    "# Create a numpy array y1 of same length as y and number of columns 3. \n",
    "# Values of y1 are such that,\n",
    "# If y contains 0, y1 should have (1,0,0)\n",
    "# If y contains 1, y1 should have (0,1,0)\n",
    "# If y contains 2, y1 should have (0,0,1)\n",
    "# This type of encoding is known as one-hot encoding\n",
    "#################################\n",
    "\n",
    "length = int(data.size)//5\n",
    "y1 = np.zeros([length,3])\n",
    "row=0\n",
    "for num in Y:\n",
    "    col = int(num)\n",
    "    y1[row][col] = 1\n",
    "    row+=1\n",
    "    \n",
    "#################################"
   ]
  },
  {
   "cell_type": "code",
   "execution_count": 54,
   "metadata": {},
   "outputs": [
    {
     "data": {
      "text/plain": [
       "(1, 32, 64, 3)"
      ]
     },
     "execution_count": 54,
     "metadata": {},
     "output_type": "execute_result"
    }
   ],
   "source": [
    "A=np.random.randint(100,size=(32,64,3))\n",
    "# Convert A into shape (1,32,64,3) without using np.reshape()\n",
    "#################################\n",
    "\n",
    "A=np.array([A])\n",
    "A.shape\n",
    "\n",
    "#################################"
   ]
  }
 ],
 "metadata": {
  "kernelspec": {
   "display_name": "Python 3",
   "language": "python",
   "name": "python3"
  },
  "language_info": {
   "codemirror_mode": {
    "name": "ipython",
    "version": 3
   },
   "file_extension": ".py",
   "mimetype": "text/x-python",
   "name": "python",
   "nbconvert_exporter": "python",
   "pygments_lexer": "ipython3",
   "version": "3.6.4"
  }
 },
 "nbformat": 4,
 "nbformat_minor": 2
}
